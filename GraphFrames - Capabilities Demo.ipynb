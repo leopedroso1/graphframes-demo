{
 "cells": [
  {
   "cell_type": "code",
   "execution_count": 0,
   "metadata": {
    "application/vnd.databricks.v1+cell": {
     "cellMetadata": {
      "byteLimit": 2048000,
      "rowLimit": 10000
     },
     "inputWidgets": {},
     "nuid": "0a1a7c95-97eb-42d5-973f-9155846eb541",
     "showTitle": false,
     "title": ""
    }
   },
   "outputs": [],
   "source": [
    "from graphframes import GraphFrame # Use ML Runtime with CPUs for better performance\n",
    "from graphframes.lib import Pregel\n",
    "from graphframes.lib import AggregateMessages as AM\n",
    "from pyspark.sql.functions import *\n",
    "from pyspark.sql.window import Window\n",
    "\n",
    "from typing import Dict, Callable, Union\n",
    "from pyspark.sql.types import StructField\n",
    "from pyspark.sql import Column"
   ]
  },
  {
   "cell_type": "code",
   "execution_count": 0,
   "metadata": {
    "application/vnd.databricks.v1+cell": {
     "cellMetadata": {
      "byteLimit": 2048000,
      "rowLimit": 10000
     },
     "inputWidgets": {},
     "nuid": "4aa98b2c-c3bc-4e07-9eb0-922d8e97e052",
     "showTitle": true,
     "title": "Data Input"
    }
   },
   "outputs": [
    {
     "output_type": "display_data",
     "data": {
      "text/html": [
       "<style scoped>\n",
       "  .table-result-container {\n",
       "    max-height: 300px;\n",
       "    overflow: auto;\n",
       "  }\n",
       "  table, th, td {\n",
       "    border: 1px solid black;\n",
       "    border-collapse: collapse;\n",
       "  }\n",
       "  th, td {\n",
       "    padding: 5px;\n",
       "  }\n",
       "  th {\n",
       "    text-align: left;\n",
       "  }\n",
       "</style><div class='table-result-container'><table class='table-result'><thead style='background-color: white'><tr><th>ingredientId</th><th>ingredientName</th><th>ingredientClass</th><th>parentIngredientID</th><th>carbon</th></tr></thead><tbody><tr><td>1</td><td>Pepperoni Pizza</td><td>Product</td><td>null</td><td>0</td></tr><tr><td>2</td><td>Dough</td><td>Complex Ingredient</td><td>1</td><td>10</td></tr><tr><td>3</td><td>Tomato Sauce</td><td>Complex Ingredient</td><td>1</td><td>10</td></tr><tr><td>4</td><td>Cheese</td><td>Complex Ingredient</td><td>1</td><td>10</td></tr><tr><td>5</td><td>Pepperoni</td><td>Complex Ingredient</td><td>1</td><td>10</td></tr><tr><td>6</td><td>Tomato, Chopped</td><td>Processed Ingredient</td><td>3</td><td>10</td></tr><tr><td>7</td><td>Tomato, Washed</td><td>Processed Ingredient</td><td>6</td><td>10</td></tr><tr><td>8</td><td>Tomato</td><td>Produce</td><td>7</td><td>10</td></tr></tbody></table></div>"
      ]
     },
     "metadata": {
      "application/vnd.databricks.v1+output": {
       "addedWidgets": {},
       "aggData": [],
       "aggError": "",
       "aggOverflow": false,
       "aggSchema": [],
       "aggSeriesLimitReached": false,
       "aggType": "",
       "arguments": {},
       "columnCustomDisplayInfos": {},
       "data": [
        [
         1,
         "Pepperoni Pizza",
         "Product",
         null,
         0
        ],
        [
         2,
         "Dough",
         "Complex Ingredient",
         1,
         10
        ],
        [
         3,
         "Tomato Sauce",
         "Complex Ingredient",
         1,
         10
        ],
        [
         4,
         "Cheese",
         "Complex Ingredient",
         1,
         10
        ],
        [
         5,
         "Pepperoni",
         "Complex Ingredient",
         1,
         10
        ],
        [
         6,
         "Tomato, Chopped",
         "Processed Ingredient",
         3,
         10
        ],
        [
         7,
         "Tomato, Washed",
         "Processed Ingredient",
         6,
         10
        ],
        [
         8,
         "Tomato",
         "Produce",
         7,
         10
        ]
       ],
       "datasetInfos": [],
       "dbfsResultPath": null,
       "isJsonSchema": true,
       "metadata": {},
       "overflow": false,
       "plotOptions": {
        "customPlotOptions": {},
        "displayType": "table",
        "pivotAggregation": null,
        "pivotColumns": null,
        "xColumns": null,
        "yColumns": null
       },
       "removedWidgets": [],
       "schema": [
        {
         "metadata": "{}",
         "name": "ingredientId",
         "type": "\"long\""
        },
        {
         "metadata": "{}",
         "name": "ingredientName",
         "type": "\"string\""
        },
        {
         "metadata": "{}",
         "name": "ingredientClass",
         "type": "\"string\""
        },
        {
         "metadata": "{}",
         "name": "parentIngredientID",
         "type": "\"long\""
        },
        {
         "metadata": "{}",
         "name": "carbon",
         "type": "\"long\""
        }
       ],
       "type": "table"
      }
     },
     "output_type": "display_data"
    }
   ],
   "source": [
    "data = [\n",
    "    (1, \"Pepperoni Pizza\", \"Product\", None, 0),\n",
    "    (2, \"Dough\", \"Complex Ingredient\", 1, 10),\n",
    "    (3, \"Tomato Sauce\", \"Complex Ingredient\", 1, 10),\n",
    "    (4, \"Cheese\", \"Complex Ingredient\", 1, 10),\n",
    "    (5, \"Pepperoni\", \"Complex Ingredient\", 1, 10),\n",
    "    (6, \"Tomato, Chopped\", \"Processed Ingredient\" ,3, 10),\n",
    "    (7, \"Tomato, Washed\", \"Processed Ingredient\", 6, 10),\n",
    "    (8, \"Tomato\", \"Produce\", 7, 10),\n",
    "]\n",
    "\n",
    "columns = [\"ingredientId\", \"ingredientName\", \"ingredientClass\", \"parentIngredientID\", \"carbon\"]\n",
    "ingredients_df = spark.createDataFrame(data, columns)\n",
    "ingredients_df.display()"
   ]
  },
  {
   "cell_type": "code",
   "execution_count": 0,
   "metadata": {
    "application/vnd.databricks.v1+cell": {
     "cellMetadata": {
      "byteLimit": 2048000,
      "rowLimit": 10000
     },
     "inputWidgets": {},
     "nuid": "ddfd8466-22fb-4a6f-b8b2-67de3675c15e",
     "showTitle": true,
     "title": "Create Initial Graph"
    }
   },
   "outputs": [
    {
     "output_type": "stream",
     "name": "stdout",
     "output_type": "stream",
     "text": [
      "Vertices\n"
     ]
    },
    {
     "output_type": "display_data",
     "data": {
      "text/html": [
       "<style scoped>\n",
       "  .table-result-container {\n",
       "    max-height: 300px;\n",
       "    overflow: auto;\n",
       "  }\n",
       "  table, th, td {\n",
       "    border: 1px solid black;\n",
       "    border-collapse: collapse;\n",
       "  }\n",
       "  th, td {\n",
       "    padding: 5px;\n",
       "  }\n",
       "  th {\n",
       "    text-align: left;\n",
       "  }\n",
       "</style><div class='table-result-container'><table class='table-result'><thead style='background-color: white'><tr><th>id</th><th>ingredientName</th><th>ingredientClass</th><th>parentIngredientID</th><th>carbon</th></tr></thead><tbody><tr><td>1</td><td>Pepperoni Pizza</td><td>Product</td><td>null</td><td>0</td></tr><tr><td>2</td><td>Dough</td><td>Complex Ingredient</td><td>1</td><td>10</td></tr><tr><td>3</td><td>Tomato Sauce</td><td>Complex Ingredient</td><td>1</td><td>10</td></tr><tr><td>4</td><td>Cheese</td><td>Complex Ingredient</td><td>1</td><td>10</td></tr><tr><td>5</td><td>Pepperoni</td><td>Complex Ingredient</td><td>1</td><td>10</td></tr><tr><td>6</td><td>Tomato, Chopped</td><td>Processed Ingredient</td><td>3</td><td>10</td></tr><tr><td>7</td><td>Tomato, Washed</td><td>Processed Ingredient</td><td>6</td><td>10</td></tr><tr><td>8</td><td>Tomato</td><td>Produce</td><td>7</td><td>10</td></tr></tbody></table></div>"
      ]
     },
     "metadata": {
      "application/vnd.databricks.v1+output": {
       "addedWidgets": {},
       "aggData": [],
       "aggError": "",
       "aggOverflow": false,
       "aggSchema": [],
       "aggSeriesLimitReached": false,
       "aggType": "",
       "arguments": {},
       "columnCustomDisplayInfos": {},
       "data": [
        [
         1,
         "Pepperoni Pizza",
         "Product",
         null,
         0
        ],
        [
         2,
         "Dough",
         "Complex Ingredient",
         1,
         10
        ],
        [
         3,
         "Tomato Sauce",
         "Complex Ingredient",
         1,
         10
        ],
        [
         4,
         "Cheese",
         "Complex Ingredient",
         1,
         10
        ],
        [
         5,
         "Pepperoni",
         "Complex Ingredient",
         1,
         10
        ],
        [
         6,
         "Tomato, Chopped",
         "Processed Ingredient",
         3,
         10
        ],
        [
         7,
         "Tomato, Washed",
         "Processed Ingredient",
         6,
         10
        ],
        [
         8,
         "Tomato",
         "Produce",
         7,
         10
        ]
       ],
       "datasetInfos": [],
       "dbfsResultPath": null,
       "isJsonSchema": true,
       "metadata": {},
       "overflow": false,
       "plotOptions": {
        "customPlotOptions": {},
        "displayType": "table",
        "pivotAggregation": null,
        "pivotColumns": null,
        "xColumns": null,
        "yColumns": null
       },
       "removedWidgets": [],
       "schema": [
        {
         "metadata": "{}",
         "name": "id",
         "type": "\"long\""
        },
        {
         "metadata": "{}",
         "name": "ingredientName",
         "type": "\"string\""
        },
        {
         "metadata": "{}",
         "name": "ingredientClass",
         "type": "\"string\""
        },
        {
         "metadata": "{}",
         "name": "parentIngredientID",
         "type": "\"long\""
        },
        {
         "metadata": "{}",
         "name": "carbon",
         "type": "\"long\""
        }
       ],
       "type": "table"
      }
     },
     "output_type": "display_data"
    },
    {
     "output_type": "stream",
     "name": "stdout",
     "output_type": "stream",
     "text": [
      "Edges\n"
     ]
    },
    {
     "output_type": "display_data",
     "data": {
      "text/html": [
       "<style scoped>\n",
       "  .table-result-container {\n",
       "    max-height: 300px;\n",
       "    overflow: auto;\n",
       "  }\n",
       "  table, th, td {\n",
       "    border: 1px solid black;\n",
       "    border-collapse: collapse;\n",
       "  }\n",
       "  th, td {\n",
       "    padding: 5px;\n",
       "  }\n",
       "  th {\n",
       "    text-align: left;\n",
       "  }\n",
       "</style><div class='table-result-container'><table class='table-result'><thead style='background-color: white'><tr><th>src</th><th>dst</th></tr></thead><tbody><tr><td>2</td><td>1</td></tr><tr><td>3</td><td>1</td></tr><tr><td>4</td><td>1</td></tr><tr><td>5</td><td>1</td></tr><tr><td>6</td><td>3</td></tr><tr><td>7</td><td>6</td></tr><tr><td>8</td><td>7</td></tr></tbody></table></div>"
      ]
     },
     "metadata": {
      "application/vnd.databricks.v1+output": {
       "addedWidgets": {},
       "aggData": [],
       "aggError": "",
       "aggOverflow": false,
       "aggSchema": [],
       "aggSeriesLimitReached": false,
       "aggType": "",
       "arguments": {},
       "columnCustomDisplayInfos": {},
       "data": [
        [
         2,
         1
        ],
        [
         3,
         1
        ],
        [
         4,
         1
        ],
        [
         5,
         1
        ],
        [
         6,
         3
        ],
        [
         7,
         6
        ],
        [
         8,
         7
        ]
       ],
       "datasetInfos": [],
       "dbfsResultPath": null,
       "isJsonSchema": true,
       "metadata": {},
       "overflow": false,
       "plotOptions": {
        "customPlotOptions": {},
        "displayType": "table",
        "pivotAggregation": null,
        "pivotColumns": null,
        "xColumns": null,
        "yColumns": null
       },
       "removedWidgets": [],
       "schema": [
        {
         "metadata": "{}",
         "name": "src",
         "type": "\"long\""
        },
        {
         "metadata": "{}",
         "name": "dst",
         "type": "\"long\""
        }
       ],
       "type": "table"
      }
     },
     "output_type": "display_data"
    }
   ],
   "source": [
    "# NOTE: DO NOT rename id, src, and dst - GraphFrames leverages these names to set up the correct graph path\n",
    "\n",
    "# Create vertices and edges dataframes\n",
    "vertices = ingredients_df.withColumnRenamed(\"ingredientID\", \"id\") # Mandatory --> vertex id\n",
    "print(\"Vertices\")\n",
    "vertices.display()\n",
    "\n",
    "edges = (ingredients_df.filter(\"parentIngredientID IS NOT NULL\") \n",
    "                       .withColumnRenamed(\"ingredientID\", \"src\") # Mandatory --> source vertex\n",
    "                       .withColumnRenamed(\"parentIngredientID\", \"dst\") # Mandatory --> destination vertex\n",
    "                       .select(\"src\", \"dst\")\n",
    "        )\n",
    "print(\"Edges\")\n",
    "edges.display()\n",
    "\n",
    "graph = GraphFrame(vertices, edges)"
   ]
  },
  {
   "cell_type": "code",
   "execution_count": 0,
   "metadata": {
    "application/vnd.databricks.v1+cell": {
     "cellMetadata": {
      "byteLimit": 2048000,
      "rowLimit": 10000
     },
     "inputWidgets": {},
     "nuid": "34e51bf5-c107-432e-93a2-7c3df190fee9",
     "showTitle": true,
     "title": "Simple Pregel Propagation"
    }
   },
   "outputs": [
    {
     "output_type": "display_data",
     "data": {
      "text/html": [
       "<style scoped>\n",
       "  .table-result-container {\n",
       "    max-height: 300px;\n",
       "    overflow: auto;\n",
       "  }\n",
       "  table, th, td {\n",
       "    border: 1px solid black;\n",
       "    border-collapse: collapse;\n",
       "  }\n",
       "  th, td {\n",
       "    padding: 5px;\n",
       "  }\n",
       "  th {\n",
       "    text-align: left;\n",
       "  }\n",
       "</style><div class='table-result-container'><table class='table-result'><thead style='background-color: white'><tr><th>id</th><th>totalCarbon</th><th>ingredientName</th><th>ingredientClass</th><th>parentIngredientID</th><th>carbon</th></tr></thead><tbody><tr><td>2</td><td>10</td><td>Dough</td><td>Complex Ingredient</td><td>1</td><td>10</td></tr><tr><td>3</td><td>40</td><td>Tomato Sauce</td><td>Complex Ingredient</td><td>1</td><td>10</td></tr><tr><td>7</td><td>20</td><td>Tomato, Washed</td><td>Processed Ingredient</td><td>6</td><td>10</td></tr><tr><td>4</td><td>10</td><td>Cheese</td><td>Complex Ingredient</td><td>1</td><td>10</td></tr><tr><td>5</td><td>10</td><td>Pepperoni</td><td>Complex Ingredient</td><td>1</td><td>10</td></tr><tr><td>8</td><td>10</td><td>Tomato</td><td>Produce</td><td>7</td><td>10</td></tr><tr><td>1</td><td>70</td><td>Pepperoni Pizza</td><td>Product</td><td>null</td><td>0</td></tr><tr><td>6</td><td>30</td><td>Tomato, Chopped</td><td>Processed Ingredient</td><td>3</td><td>10</td></tr></tbody></table></div>"
      ]
     },
     "metadata": {
      "application/vnd.databricks.v1+output": {
       "addedWidgets": {},
       "aggData": [],
       "aggError": "",
       "aggOverflow": false,
       "aggSchema": [],
       "aggSeriesLimitReached": false,
       "aggType": "",
       "arguments": {},
       "columnCustomDisplayInfos": {},
       "data": [
        [
         2,
         10,
         "Dough",
         "Complex Ingredient",
         1,
         10
        ],
        [
         3,
         40,
         "Tomato Sauce",
         "Complex Ingredient",
         1,
         10
        ],
        [
         7,
         20,
         "Tomato, Washed",
         "Processed Ingredient",
         6,
         10
        ],
        [
         4,
         10,
         "Cheese",
         "Complex Ingredient",
         1,
         10
        ],
        [
         5,
         10,
         "Pepperoni",
         "Complex Ingredient",
         1,
         10
        ],
        [
         8,
         10,
         "Tomato",
         "Produce",
         7,
         10
        ],
        [
         1,
         70,
         "Pepperoni Pizza",
         "Product",
         null,
         0
        ],
        [
         6,
         30,
         "Tomato, Chopped",
         "Processed Ingredient",
         3,
         10
        ]
       ],
       "datasetInfos": [],
       "dbfsResultPath": null,
       "isJsonSchema": true,
       "metadata": {},
       "overflow": false,
       "plotOptions": {
        "customPlotOptions": {},
        "displayType": "table",
        "pivotAggregation": null,
        "pivotColumns": null,
        "xColumns": null,
        "yColumns": null
       },
       "removedWidgets": [],
       "schema": [
        {
         "metadata": "{}",
         "name": "id",
         "type": "\"long\""
        },
        {
         "metadata": "{}",
         "name": "totalCarbon",
         "type": "\"long\""
        },
        {
         "metadata": "{}",
         "name": "ingredientName",
         "type": "\"string\""
        },
        {
         "metadata": "{}",
         "name": "ingredientClass",
         "type": "\"string\""
        },
        {
         "metadata": "{}",
         "name": "parentIngredientID",
         "type": "\"long\""
        },
        {
         "metadata": "{}",
         "name": "carbon",
         "type": "\"long\""
        }
       ],
       "type": "table"
      }
     },
     "output_type": "display_data"
    }
   ],
   "source": [
    "\"\"\"\n",
    "Initialize pregel algorithm to run aggregations over the tree\n",
    "\n",
    ".setMaxIter --> Maximum iteration of messages propagated in the graph. It depends of the deepness of your graph structure\n",
    "\n",
    ".withVertexColumn --> \n",
    "\n",
    ".sendMsgToDst --> \n",
    "\n",
    ".aggMsgs --> Defines how messages are aggregated after grouped by target vertex IDs.\n",
    "\"\"\"\n",
    "result = (graph.pregel\n",
    "               .setMaxIter(5) \n",
    "               .withVertexColumn(\"totalCarbon\", lit(0), coalesce(Pregel.msg(), col(\"carbon\"))) \n",
    "               .sendMsgToDst(Pregel.src(\"totalCarbon\") + Pregel.dst(\"carbon\"))\n",
    "               .aggMsgs(sum(Pregel.msg()).alias(\"msg\"))\n",
    "               .run()\n",
    "        )\n",
    "\n",
    "result.display()"
   ]
  },
  {
   "cell_type": "code",
   "execution_count": 0,
   "metadata": {
    "application/vnd.databricks.v1+cell": {
     "cellMetadata": {
      "byteLimit": 2048000,
      "rowLimit": 10000
     },
     "inputWidgets": {},
     "nuid": "671c5a2f-7db7-43c4-91a9-e1c01911c198",
     "showTitle": true,
     "title": "Set tree levels + Branches for easy querying"
    }
   },
   "outputs": [
    {
     "output_type": "stream",
     "name": "stdout",
     "output_type": "stream",
     "text": [
      "Vertices\n"
     ]
    },
    {
     "output_type": "display_data",
     "data": {
      "text/html": [
       "<style scoped>\n",
       "  .table-result-container {\n",
       "    max-height: 300px;\n",
       "    overflow: auto;\n",
       "  }\n",
       "  table, th, td {\n",
       "    border: 1px solid black;\n",
       "    border-collapse: collapse;\n",
       "  }\n",
       "  th, td {\n",
       "    padding: 5px;\n",
       "  }\n",
       "  th {\n",
       "    text-align: left;\n",
       "  }\n",
       "</style><div class='table-result-container'><table class='table-result'><thead style='background-color: white'><tr><th>id</th><th>ingredientName</th><th>ingredientClass</th><th>parentIngredientID</th><th>carbon</th><th>level</th><th>branchLabel</th><th>message</th></tr></thead><tbody><tr><td>1</td><td>Pepperoni Pizza</td><td>Product</td><td>null</td><td>0</td><td>1</td><td>List(1, 1)</td><td>List(1, List(1, 1))</td></tr><tr><td>2</td><td>Dough</td><td>Complex Ingredient</td><td>1</td><td>10</td><td>null</td><td>null</td><td>null</td></tr><tr><td>3</td><td>Tomato Sauce</td><td>Complex Ingredient</td><td>1</td><td>10</td><td>null</td><td>null</td><td>null</td></tr><tr><td>4</td><td>Cheese</td><td>Complex Ingredient</td><td>1</td><td>10</td><td>null</td><td>null</td><td>null</td></tr><tr><td>5</td><td>Pepperoni</td><td>Complex Ingredient</td><td>1</td><td>10</td><td>null</td><td>null</td><td>null</td></tr><tr><td>6</td><td>Tomato, Chopped</td><td>Processed Ingredient</td><td>3</td><td>10</td><td>null</td><td>null</td><td>null</td></tr><tr><td>7</td><td>Tomato, Washed</td><td>Processed Ingredient</td><td>6</td><td>10</td><td>null</td><td>null</td><td>null</td></tr><tr><td>8</td><td>Tomato</td><td>Produce</td><td>7</td><td>10</td><td>null</td><td>null</td><td>null</td></tr></tbody></table></div>"
      ]
     },
     "metadata": {
      "application/vnd.databricks.v1+output": {
       "addedWidgets": {},
       "aggData": [],
       "aggError": "",
       "aggOverflow": false,
       "aggSchema": [],
       "aggSeriesLimitReached": false,
       "aggType": "",
       "arguments": {},
       "columnCustomDisplayInfos": {},
       "data": [
        [
         1,
         "Pepperoni Pizza",
         "Product",
         null,
         0,
         1,
         [
          1,
          1
         ],
         [
          1,
          [
           1,
           1
          ]
         ]
        ],
        [
         2,
         "Dough",
         "Complex Ingredient",
         1,
         10,
         null,
         null,
         null
        ],
        [
         3,
         "Tomato Sauce",
         "Complex Ingredient",
         1,
         10,
         null,
         null,
         null
        ],
        [
         4,
         "Cheese",
         "Complex Ingredient",
         1,
         10,
         null,
         null,
         null
        ],
        [
         5,
         "Pepperoni",
         "Complex Ingredient",
         1,
         10,
         null,
         null,
         null
        ],
        [
         6,
         "Tomato, Chopped",
         "Processed Ingredient",
         3,
         10,
         null,
         null,
         null
        ],
        [
         7,
         "Tomato, Washed",
         "Processed Ingredient",
         6,
         10,
         null,
         null,
         null
        ],
        [
         8,
         "Tomato",
         "Produce",
         7,
         10,
         null,
         null,
         null
        ]
       ],
       "datasetInfos": [],
       "dbfsResultPath": null,
       "isJsonSchema": true,
       "metadata": {},
       "overflow": false,
       "plotOptions": {
        "customPlotOptions": {},
        "displayType": "table",
        "pivotAggregation": null,
        "pivotColumns": null,
        "xColumns": null,
        "yColumns": null
       },
       "removedWidgets": [],
       "schema": [
        {
         "metadata": "{}",
         "name": "id",
         "type": "\"long\""
        },
        {
         "metadata": "{}",
         "name": "ingredientName",
         "type": "\"string\""
        },
        {
         "metadata": "{}",
         "name": "ingredientClass",
         "type": "\"string\""
        },
        {
         "metadata": "{}",
         "name": "parentIngredientID",
         "type": "\"long\""
        },
        {
         "metadata": "{}",
         "name": "carbon",
         "type": "\"long\""
        },
        {
         "metadata": "{}",
         "name": "level",
         "type": "\"integer\""
        },
        {
         "metadata": "{}",
         "name": "branchLabel",
         "type": "{\"type\":\"array\",\"elementType\":\"integer\",\"containsNull\":false}"
        },
        {
         "metadata": "{}",
         "name": "message",
         "type": "{\"type\":\"struct\",\"fields\":[{\"name\":\"level\",\"type\":\"integer\",\"nullable\":true,\"metadata\":{}},{\"name\":\"branchLabel\",\"type\":{\"type\":\"array\",\"elementType\":\"integer\",\"containsNull\":false},\"nullable\":true,\"metadata\":{}}]}"
        }
       ],
       "type": "table"
      }
     },
     "output_type": "display_data"
    },
    {
     "output_type": "stream",
     "name": "stdout",
     "output_type": "stream",
     "text": [
      "Edges Child Numbered\n"
     ]
    },
    {
     "output_type": "display_data",
     "data": {
      "text/html": [
       "<style scoped>\n",
       "  .table-result-container {\n",
       "    max-height: 300px;\n",
       "    overflow: auto;\n",
       "  }\n",
       "  table, th, td {\n",
       "    border: 1px solid black;\n",
       "    border-collapse: collapse;\n",
       "  }\n",
       "  th, td {\n",
       "    padding: 5px;\n",
       "  }\n",
       "  th {\n",
       "    text-align: left;\n",
       "  }\n",
       "</style><div class='table-result-container'><table class='table-result'><thead style='background-color: white'><tr><th>src</th><th>dst</th><th>childNumber</th></tr></thead><tbody><tr><td>2</td><td>1</td><td>1</td></tr><tr><td>3</td><td>1</td><td>2</td></tr><tr><td>4</td><td>1</td><td>3</td></tr><tr><td>5</td><td>1</td><td>4</td></tr><tr><td>6</td><td>3</td><td>1</td></tr><tr><td>7</td><td>6</td><td>1</td></tr><tr><td>8</td><td>7</td><td>1</td></tr></tbody></table></div>"
      ]
     },
     "metadata": {
      "application/vnd.databricks.v1+output": {
       "addedWidgets": {},
       "aggData": [],
       "aggError": "",
       "aggOverflow": false,
       "aggSchema": [],
       "aggSeriesLimitReached": false,
       "aggType": "",
       "arguments": {},
       "columnCustomDisplayInfos": {},
       "data": [
        [
         2,
         1,
         1
        ],
        [
         3,
         1,
         2
        ],
        [
         4,
         1,
         3
        ],
        [
         5,
         1,
         4
        ],
        [
         6,
         3,
         1
        ],
        [
         7,
         6,
         1
        ],
        [
         8,
         7,
         1
        ]
       ],
       "datasetInfos": [],
       "dbfsResultPath": null,
       "isJsonSchema": true,
       "metadata": {},
       "overflow": false,
       "plotOptions": {
        "customPlotOptions": {},
        "displayType": "table",
        "pivotAggregation": null,
        "pivotColumns": null,
        "xColumns": null,
        "yColumns": null
       },
       "removedWidgets": [],
       "schema": [
        {
         "metadata": "{}",
         "name": "src",
         "type": "\"long\""
        },
        {
         "metadata": "{}",
         "name": "dst",
         "type": "\"long\""
        },
        {
         "metadata": "{}",
         "name": "childNumber",
         "type": "\"integer\""
        }
       ],
       "type": "table"
      }
     },
     "output_type": "display_data"
    },
    {
     "output_type": "stream",
     "name": "stdout",
     "output_type": "stream",
     "text": [
      "Iteration 0\nNew Levels Propagated\n"
     ]
    },
    {
     "output_type": "display_data",
     "data": {
      "text/html": [
       "<style scoped>\n",
       "  .table-result-container {\n",
       "    max-height: 300px;\n",
       "    overflow: auto;\n",
       "  }\n",
       "  table, th, td {\n",
       "    border: 1px solid black;\n",
       "    border-collapse: collapse;\n",
       "  }\n",
       "  th, td {\n",
       "    padding: 5px;\n",
       "  }\n",
       "  th {\n",
       "    text-align: left;\n",
       "  }\n",
       "</style><div class='table-result-container'><table class='table-result'><thead style='background-color: white'><tr><th>id</th><th>message</th></tr></thead><tbody><tr><td>2</td><td>List(2, List(1, 1, 1))</td></tr><tr><td>3</td><td>List(2, List(1, 1, 2))</td></tr><tr><td>4</td><td>List(2, List(1, 1, 3))</td></tr><tr><td>5</td><td>List(2, List(1, 1, 4))</td></tr><tr><td>6</td><td>List(null, null)</td></tr><tr><td>7</td><td>List(null, null)</td></tr><tr><td>8</td><td>List(null, null)</td></tr></tbody></table></div>"
      ]
     },
     "metadata": {
      "application/vnd.databricks.v1+output": {
       "addedWidgets": {},
       "aggData": [],
       "aggError": "",
       "aggOverflow": false,
       "aggSchema": [],
       "aggSeriesLimitReached": false,
       "aggType": "",
       "arguments": {},
       "columnCustomDisplayInfos": {},
       "data": [
        [
         2,
         [
          2,
          [
           1,
           1,
           1
          ]
         ]
        ],
        [
         3,
         [
          2,
          [
           1,
           1,
           2
          ]
         ]
        ],
        [
         4,
         [
          2,
          [
           1,
           1,
           3
          ]
         ]
        ],
        [
         5,
         [
          2,
          [
           1,
           1,
           4
          ]
         ]
        ],
        [
         6,
         [
          null,
          null
         ]
        ],
        [
         7,
         [
          null,
          null
         ]
        ],
        [
         8,
         [
          null,
          null
         ]
        ]
       ],
       "datasetInfos": [],
       "dbfsResultPath": null,
       "isJsonSchema": true,
       "metadata": {},
       "overflow": false,
       "plotOptions": {
        "customPlotOptions": {},
        "displayType": "table",
        "pivotAggregation": null,
        "pivotColumns": null,
        "xColumns": null,
        "yColumns": null
       },
       "removedWidgets": [],
       "schema": [
        {
         "metadata": "{}",
         "name": "id",
         "type": "\"long\""
        },
        {
         "metadata": "{}",
         "name": "message",
         "type": "{\"type\":\"struct\",\"fields\":[{\"name\":\"level\",\"type\":\"integer\",\"nullable\":true,\"metadata\":{}},{\"name\":\"branchLabel\",\"type\":{\"type\":\"array\",\"elementType\":\"integer\",\"containsNull\":true},\"nullable\":true,\"metadata\":{}}]}"
        }
       ],
       "type": "table"
      }
     },
     "output_type": "display_data"
    },
    {
     "output_type": "stream",
     "name": "stdout",
     "output_type": "stream",
     "text": [
      "Vertices to process\n"
     ]
    },
    {
     "output_type": "display_data",
     "data": {
      "text/html": [
       "<style scoped>\n",
       "  .table-result-container {\n",
       "    max-height: 300px;\n",
       "    overflow: auto;\n",
       "  }\n",
       "  table, th, td {\n",
       "    border: 1px solid black;\n",
       "    border-collapse: collapse;\n",
       "  }\n",
       "  th, td {\n",
       "    padding: 5px;\n",
       "  }\n",
       "  th {\n",
       "    text-align: left;\n",
       "  }\n",
       "</style><div class='table-result-container'><table class='table-result'><thead style='background-color: white'><tr><th>id</th><th>ingredientName</th><th>ingredientClass</th><th>parentIngredientID</th><th>carbon</th><th>level</th><th>branchLabel</th><th>message</th></tr></thead><tbody><tr><td>2</td><td>Dough</td><td>Complex Ingredient</td><td>1</td><td>10</td><td>2</td><td>List(1, 1, 1)</td><td>null</td></tr><tr><td>3</td><td>Tomato Sauce</td><td>Complex Ingredient</td><td>1</td><td>10</td><td>2</td><td>List(1, 1, 2)</td><td>null</td></tr><tr><td>7</td><td>Tomato, Washed</td><td>Processed Ingredient</td><td>6</td><td>10</td><td>null</td><td>null</td><td>null</td></tr><tr><td>4</td><td>Cheese</td><td>Complex Ingredient</td><td>1</td><td>10</td><td>2</td><td>List(1, 1, 3)</td><td>null</td></tr><tr><td>5</td><td>Pepperoni</td><td>Complex Ingredient</td><td>1</td><td>10</td><td>2</td><td>List(1, 1, 4)</td><td>null</td></tr><tr><td>8</td><td>Tomato</td><td>Produce</td><td>7</td><td>10</td><td>null</td><td>null</td><td>null</td></tr><tr><td>1</td><td>Pepperoni Pizza</td><td>Product</td><td>null</td><td>0</td><td>1</td><td>List(1, 1)</td><td>List(1, List(1, 1))</td></tr><tr><td>6</td><td>Tomato, Chopped</td><td>Processed Ingredient</td><td>3</td><td>10</td><td>null</td><td>null</td><td>null</td></tr></tbody></table></div>"
      ]
     },
     "metadata": {
      "application/vnd.databricks.v1+output": {
       "addedWidgets": {},
       "aggData": [],
       "aggError": "",
       "aggOverflow": false,
       "aggSchema": [],
       "aggSeriesLimitReached": false,
       "aggType": "",
       "arguments": {},
       "columnCustomDisplayInfos": {},
       "data": [
        [
         2,
         "Dough",
         "Complex Ingredient",
         1,
         10,
         2,
         [
          1,
          1,
          1
         ],
         null
        ],
        [
         3,
         "Tomato Sauce",
         "Complex Ingredient",
         1,
         10,
         2,
         [
          1,
          1,
          2
         ],
         null
        ],
        [
         7,
         "Tomato, Washed",
         "Processed Ingredient",
         6,
         10,
         null,
         null,
         null
        ],
        [
         4,
         "Cheese",
         "Complex Ingredient",
         1,
         10,
         2,
         [
          1,
          1,
          3
         ],
         null
        ],
        [
         5,
         "Pepperoni",
         "Complex Ingredient",
         1,
         10,
         2,
         [
          1,
          1,
          4
         ],
         null
        ],
        [
         8,
         "Tomato",
         "Produce",
         7,
         10,
         null,
         null,
         null
        ],
        [
         1,
         "Pepperoni Pizza",
         "Product",
         null,
         0,
         1,
         [
          1,
          1
         ],
         [
          1,
          [
           1,
           1
          ]
         ]
        ],
        [
         6,
         "Tomato, Chopped",
         "Processed Ingredient",
         3,
         10,
         null,
         null,
         null
        ]
       ],
       "datasetInfos": [],
       "dbfsResultPath": null,
       "isJsonSchema": true,
       "metadata": {},
       "overflow": false,
       "plotOptions": {
        "customPlotOptions": {},
        "displayType": "table",
        "pivotAggregation": null,
        "pivotColumns": null,
        "xColumns": null,
        "yColumns": null
       },
       "removedWidgets": [],
       "schema": [
        {
         "metadata": "{}",
         "name": "id",
         "type": "\"long\""
        },
        {
         "metadata": "{}",
         "name": "ingredientName",
         "type": "\"string\""
        },
        {
         "metadata": "{}",
         "name": "ingredientClass",
         "type": "\"string\""
        },
        {
         "metadata": "{}",
         "name": "parentIngredientID",
         "type": "\"long\""
        },
        {
         "metadata": "{}",
         "name": "carbon",
         "type": "\"long\""
        },
        {
         "metadata": "{}",
         "name": "level",
         "type": "\"integer\""
        },
        {
         "metadata": "{}",
         "name": "branchLabel",
         "type": "{\"type\":\"array\",\"elementType\":\"integer\",\"containsNull\":true}"
        },
        {
         "metadata": "{}",
         "name": "message",
         "type": "{\"type\":\"struct\",\"fields\":[{\"name\":\"level\",\"type\":\"integer\",\"nullable\":true,\"metadata\":{}},{\"name\":\"branchLabel\",\"type\":{\"type\":\"array\",\"elementType\":\"integer\",\"containsNull\":false},\"nullable\":true,\"metadata\":{}}]}"
        }
       ],
       "type": "table"
      }
     },
     "output_type": "display_data"
    },
    {
     "output_type": "stream",
     "name": "stdout",
     "output_type": "stream",
     "text": [
      "Iteration 1\nNew Levels Propagated\n"
     ]
    },
    {
     "output_type": "display_data",
     "data": {
      "text/html": [
       "<style scoped>\n",
       "  .table-result-container {\n",
       "    max-height: 300px;\n",
       "    overflow: auto;\n",
       "  }\n",
       "  table, th, td {\n",
       "    border: 1px solid black;\n",
       "    border-collapse: collapse;\n",
       "  }\n",
       "  th, td {\n",
       "    padding: 5px;\n",
       "  }\n",
       "  th {\n",
       "    text-align: left;\n",
       "  }\n",
       "</style><div class='table-result-container'><table class='table-result'><thead style='background-color: white'><tr><th>id</th><th>message</th></tr></thead><tbody><tr><td>6</td><td>List(3, List(1, 1, 2, 1))</td></tr><tr><td>7</td><td>List(null, null)</td></tr><tr><td>8</td><td>List(null, null)</td></tr></tbody></table></div>"
      ]
     },
     "metadata": {
      "application/vnd.databricks.v1+output": {
       "addedWidgets": {},
       "aggData": [],
       "aggError": "",
       "aggOverflow": false,
       "aggSchema": [],
       "aggSeriesLimitReached": false,
       "aggType": "",
       "arguments": {},
       "columnCustomDisplayInfos": {},
       "data": [
        [
         6,
         [
          3,
          [
           1,
           1,
           2,
           1
          ]
         ]
        ],
        [
         7,
         [
          null,
          null
         ]
        ],
        [
         8,
         [
          null,
          null
         ]
        ]
       ],
       "datasetInfos": [],
       "dbfsResultPath": null,
       "isJsonSchema": true,
       "metadata": {},
       "overflow": false,
       "plotOptions": {
        "customPlotOptions": {},
        "displayType": "table",
        "pivotAggregation": null,
        "pivotColumns": null,
        "xColumns": null,
        "yColumns": null
       },
       "removedWidgets": [],
       "schema": [
        {
         "metadata": "{}",
         "name": "id",
         "type": "\"long\""
        },
        {
         "metadata": "{}",
         "name": "message",
         "type": "{\"type\":\"struct\",\"fields\":[{\"name\":\"level\",\"type\":\"integer\",\"nullable\":true,\"metadata\":{}},{\"name\":\"branchLabel\",\"type\":{\"type\":\"array\",\"elementType\":\"integer\",\"containsNull\":true},\"nullable\":true,\"metadata\":{}}]}"
        }
       ],
       "type": "table"
      }
     },
     "output_type": "display_data"
    },
    {
     "output_type": "stream",
     "name": "stdout",
     "output_type": "stream",
     "text": [
      "Vertices to process\n"
     ]
    },
    {
     "output_type": "display_data",
     "data": {
      "text/html": [
       "<style scoped>\n",
       "  .table-result-container {\n",
       "    max-height: 300px;\n",
       "    overflow: auto;\n",
       "  }\n",
       "  table, th, td {\n",
       "    border: 1px solid black;\n",
       "    border-collapse: collapse;\n",
       "  }\n",
       "  th, td {\n",
       "    padding: 5px;\n",
       "  }\n",
       "  th {\n",
       "    text-align: left;\n",
       "  }\n",
       "</style><div class='table-result-container'><table class='table-result'><thead style='background-color: white'><tr><th>id</th><th>ingredientName</th><th>ingredientClass</th><th>parentIngredientID</th><th>carbon</th><th>level</th><th>branchLabel</th><th>message</th></tr></thead><tbody><tr><td>1</td><td>Pepperoni Pizza</td><td>Product</td><td>null</td><td>0</td><td>1</td><td>List(1, 1)</td><td>List(1, List(1, 1))</td></tr><tr><td>2</td><td>Dough</td><td>Complex Ingredient</td><td>1</td><td>10</td><td>2</td><td>List(1, 1, 1)</td><td>null</td></tr><tr><td>3</td><td>Tomato Sauce</td><td>Complex Ingredient</td><td>1</td><td>10</td><td>2</td><td>List(1, 1, 2)</td><td>null</td></tr><tr><td>4</td><td>Cheese</td><td>Complex Ingredient</td><td>1</td><td>10</td><td>2</td><td>List(1, 1, 3)</td><td>null</td></tr><tr><td>5</td><td>Pepperoni</td><td>Complex Ingredient</td><td>1</td><td>10</td><td>2</td><td>List(1, 1, 4)</td><td>null</td></tr><tr><td>6</td><td>Tomato, Chopped</td><td>Processed Ingredient</td><td>3</td><td>10</td><td>3</td><td>List(1, 1, 2, 1)</td><td>null</td></tr><tr><td>7</td><td>Tomato, Washed</td><td>Processed Ingredient</td><td>6</td><td>10</td><td>null</td><td>null</td><td>null</td></tr><tr><td>8</td><td>Tomato</td><td>Produce</td><td>7</td><td>10</td><td>null</td><td>null</td><td>null</td></tr></tbody></table></div>"
      ]
     },
     "metadata": {
      "application/vnd.databricks.v1+output": {
       "addedWidgets": {},
       "aggData": [],
       "aggError": "",
       "aggOverflow": false,
       "aggSchema": [],
       "aggSeriesLimitReached": false,
       "aggType": "",
       "arguments": {},
       "columnCustomDisplayInfos": {},
       "data": [
        [
         1,
         "Pepperoni Pizza",
         "Product",
         null,
         0,
         1,
         [
          1,
          1
         ],
         [
          1,
          [
           1,
           1
          ]
         ]
        ],
        [
         2,
         "Dough",
         "Complex Ingredient",
         1,
         10,
         2,
         [
          1,
          1,
          1
         ],
         null
        ],
        [
         3,
         "Tomato Sauce",
         "Complex Ingredient",
         1,
         10,
         2,
         [
          1,
          1,
          2
         ],
         null
        ],
        [
         4,
         "Cheese",
         "Complex Ingredient",
         1,
         10,
         2,
         [
          1,
          1,
          3
         ],
         null
        ],
        [
         5,
         "Pepperoni",
         "Complex Ingredient",
         1,
         10,
         2,
         [
          1,
          1,
          4
         ],
         null
        ],
        [
         6,
         "Tomato, Chopped",
         "Processed Ingredient",
         3,
         10,
         3,
         [
          1,
          1,
          2,
          1
         ],
         null
        ],
        [
         7,
         "Tomato, Washed",
         "Processed Ingredient",
         6,
         10,
         null,
         null,
         null
        ],
        [
         8,
         "Tomato",
         "Produce",
         7,
         10,
         null,
         null,
         null
        ]
       ],
       "datasetInfos": [],
       "dbfsResultPath": null,
       "isJsonSchema": true,
       "metadata": {},
       "overflow": false,
       "plotOptions": {
        "customPlotOptions": {},
        "displayType": "table",
        "pivotAggregation": null,
        "pivotColumns": null,
        "xColumns": null,
        "yColumns": null
       },
       "removedWidgets": [],
       "schema": [
        {
         "metadata": "{}",
         "name": "id",
         "type": "\"long\""
        },
        {
         "metadata": "{}",
         "name": "ingredientName",
         "type": "\"string\""
        },
        {
         "metadata": "{}",
         "name": "ingredientClass",
         "type": "\"string\""
        },
        {
         "metadata": "{}",
         "name": "parentIngredientID",
         "type": "\"long\""
        },
        {
         "metadata": "{}",
         "name": "carbon",
         "type": "\"long\""
        },
        {
         "metadata": "{}",
         "name": "level",
         "type": "\"integer\""
        },
        {
         "metadata": "{}",
         "name": "branchLabel",
         "type": "{\"type\":\"array\",\"elementType\":\"integer\",\"containsNull\":true}"
        },
        {
         "metadata": "{}",
         "name": "message",
         "type": "{\"type\":\"struct\",\"fields\":[{\"name\":\"level\",\"type\":\"integer\",\"nullable\":true,\"metadata\":{}},{\"name\":\"branchLabel\",\"type\":{\"type\":\"array\",\"elementType\":\"integer\",\"containsNull\":false},\"nullable\":true,\"metadata\":{}}]}"
        }
       ],
       "type": "table"
      }
     },
     "output_type": "display_data"
    },
    {
     "output_type": "stream",
     "name": "stdout",
     "output_type": "stream",
     "text": [
      "Iteration 2\nNew Levels Propagated\n"
     ]
    },
    {
     "output_type": "display_data",
     "data": {
      "text/html": [
       "<style scoped>\n",
       "  .table-result-container {\n",
       "    max-height: 300px;\n",
       "    overflow: auto;\n",
       "  }\n",
       "  table, th, td {\n",
       "    border: 1px solid black;\n",
       "    border-collapse: collapse;\n",
       "  }\n",
       "  th, td {\n",
       "    padding: 5px;\n",
       "  }\n",
       "  th {\n",
       "    text-align: left;\n",
       "  }\n",
       "</style><div class='table-result-container'><table class='table-result'><thead style='background-color: white'><tr><th>id</th><th>message</th></tr></thead><tbody><tr><td>7</td><td>List(4, List(1, 1, 2, 1, 1))</td></tr><tr><td>8</td><td>List(null, null)</td></tr></tbody></table></div>"
      ]
     },
     "metadata": {
      "application/vnd.databricks.v1+output": {
       "addedWidgets": {},
       "aggData": [],
       "aggError": "",
       "aggOverflow": false,
       "aggSchema": [],
       "aggSeriesLimitReached": false,
       "aggType": "",
       "arguments": {},
       "columnCustomDisplayInfos": {},
       "data": [
        [
         7,
         [
          4,
          [
           1,
           1,
           2,
           1,
           1
          ]
         ]
        ],
        [
         8,
         [
          null,
          null
         ]
        ]
       ],
       "datasetInfos": [],
       "dbfsResultPath": null,
       "isJsonSchema": true,
       "metadata": {},
       "overflow": false,
       "plotOptions": {
        "customPlotOptions": {},
        "displayType": "table",
        "pivotAggregation": null,
        "pivotColumns": null,
        "xColumns": null,
        "yColumns": null
       },
       "removedWidgets": [],
       "schema": [
        {
         "metadata": "{}",
         "name": "id",
         "type": "\"long\""
        },
        {
         "metadata": "{}",
         "name": "message",
         "type": "{\"type\":\"struct\",\"fields\":[{\"name\":\"level\",\"type\":\"integer\",\"nullable\":true,\"metadata\":{}},{\"name\":\"branchLabel\",\"type\":{\"type\":\"array\",\"elementType\":\"integer\",\"containsNull\":true},\"nullable\":true,\"metadata\":{}}]}"
        }
       ],
       "type": "table"
      }
     },
     "output_type": "display_data"
    },
    {
     "output_type": "stream",
     "name": "stdout",
     "output_type": "stream",
     "text": [
      "Vertices to process\n"
     ]
    },
    {
     "output_type": "display_data",
     "data": {
      "text/html": [
       "<style scoped>\n",
       "  .table-result-container {\n",
       "    max-height: 300px;\n",
       "    overflow: auto;\n",
       "  }\n",
       "  table, th, td {\n",
       "    border: 1px solid black;\n",
       "    border-collapse: collapse;\n",
       "  }\n",
       "  th, td {\n",
       "    padding: 5px;\n",
       "  }\n",
       "  th {\n",
       "    text-align: left;\n",
       "  }\n",
       "</style><div class='table-result-container'><table class='table-result'><thead style='background-color: white'><tr><th>id</th><th>ingredientName</th><th>ingredientClass</th><th>parentIngredientID</th><th>carbon</th><th>level</th><th>branchLabel</th><th>message</th></tr></thead><tbody><tr><td>1</td><td>Pepperoni Pizza</td><td>Product</td><td>null</td><td>0</td><td>1</td><td>List(1, 1)</td><td>List(1, List(1, 1))</td></tr><tr><td>2</td><td>Dough</td><td>Complex Ingredient</td><td>1</td><td>10</td><td>2</td><td>List(1, 1, 1)</td><td>null</td></tr><tr><td>3</td><td>Tomato Sauce</td><td>Complex Ingredient</td><td>1</td><td>10</td><td>2</td><td>List(1, 1, 2)</td><td>null</td></tr><tr><td>4</td><td>Cheese</td><td>Complex Ingredient</td><td>1</td><td>10</td><td>2</td><td>List(1, 1, 3)</td><td>null</td></tr><tr><td>5</td><td>Pepperoni</td><td>Complex Ingredient</td><td>1</td><td>10</td><td>2</td><td>List(1, 1, 4)</td><td>null</td></tr><tr><td>6</td><td>Tomato, Chopped</td><td>Processed Ingredient</td><td>3</td><td>10</td><td>3</td><td>List(1, 1, 2, 1)</td><td>null</td></tr><tr><td>7</td><td>Tomato, Washed</td><td>Processed Ingredient</td><td>6</td><td>10</td><td>4</td><td>List(1, 1, 2, 1, 1)</td><td>null</td></tr><tr><td>8</td><td>Tomato</td><td>Produce</td><td>7</td><td>10</td><td>null</td><td>null</td><td>null</td></tr></tbody></table></div>"
      ]
     },
     "metadata": {
      "application/vnd.databricks.v1+output": {
       "addedWidgets": {},
       "aggData": [],
       "aggError": "",
       "aggOverflow": false,
       "aggSchema": [],
       "aggSeriesLimitReached": false,
       "aggType": "",
       "arguments": {},
       "columnCustomDisplayInfos": {},
       "data": [
        [
         1,
         "Pepperoni Pizza",
         "Product",
         null,
         0,
         1,
         [
          1,
          1
         ],
         [
          1,
          [
           1,
           1
          ]
         ]
        ],
        [
         2,
         "Dough",
         "Complex Ingredient",
         1,
         10,
         2,
         [
          1,
          1,
          1
         ],
         null
        ],
        [
         3,
         "Tomato Sauce",
         "Complex Ingredient",
         1,
         10,
         2,
         [
          1,
          1,
          2
         ],
         null
        ],
        [
         4,
         "Cheese",
         "Complex Ingredient",
         1,
         10,
         2,
         [
          1,
          1,
          3
         ],
         null
        ],
        [
         5,
         "Pepperoni",
         "Complex Ingredient",
         1,
         10,
         2,
         [
          1,
          1,
          4
         ],
         null
        ],
        [
         6,
         "Tomato, Chopped",
         "Processed Ingredient",
         3,
         10,
         3,
         [
          1,
          1,
          2,
          1
         ],
         null
        ],
        [
         7,
         "Tomato, Washed",
         "Processed Ingredient",
         6,
         10,
         4,
         [
          1,
          1,
          2,
          1,
          1
         ],
         null
        ],
        [
         8,
         "Tomato",
         "Produce",
         7,
         10,
         null,
         null,
         null
        ]
       ],
       "datasetInfos": [],
       "dbfsResultPath": null,
       "isJsonSchema": true,
       "metadata": {},
       "overflow": false,
       "plotOptions": {
        "customPlotOptions": {},
        "displayType": "table",
        "pivotAggregation": null,
        "pivotColumns": null,
        "xColumns": null,
        "yColumns": null
       },
       "removedWidgets": [],
       "schema": [
        {
         "metadata": "{}",
         "name": "id",
         "type": "\"long\""
        },
        {
         "metadata": "{}",
         "name": "ingredientName",
         "type": "\"string\""
        },
        {
         "metadata": "{}",
         "name": "ingredientClass",
         "type": "\"string\""
        },
        {
         "metadata": "{}",
         "name": "parentIngredientID",
         "type": "\"long\""
        },
        {
         "metadata": "{}",
         "name": "carbon",
         "type": "\"long\""
        },
        {
         "metadata": "{}",
         "name": "level",
         "type": "\"integer\""
        },
        {
         "metadata": "{}",
         "name": "branchLabel",
         "type": "{\"type\":\"array\",\"elementType\":\"integer\",\"containsNull\":true}"
        },
        {
         "metadata": "{}",
         "name": "message",
         "type": "{\"type\":\"struct\",\"fields\":[{\"name\":\"level\",\"type\":\"integer\",\"nullable\":true,\"metadata\":{}},{\"name\":\"branchLabel\",\"type\":{\"type\":\"array\",\"elementType\":\"integer\",\"containsNull\":false},\"nullable\":true,\"metadata\":{}}]}"
        }
       ],
       "type": "table"
      }
     },
     "output_type": "display_data"
    },
    {
     "output_type": "stream",
     "name": "stdout",
     "output_type": "stream",
     "text": [
      "Iteration 3\nNew Levels Propagated\n"
     ]
    },
    {
     "output_type": "display_data",
     "data": {
      "text/html": [
       "<style scoped>\n",
       "  .table-result-container {\n",
       "    max-height: 300px;\n",
       "    overflow: auto;\n",
       "  }\n",
       "  table, th, td {\n",
       "    border: 1px solid black;\n",
       "    border-collapse: collapse;\n",
       "  }\n",
       "  th, td {\n",
       "    padding: 5px;\n",
       "  }\n",
       "  th {\n",
       "    text-align: left;\n",
       "  }\n",
       "</style><div class='table-result-container'><table class='table-result'><thead style='background-color: white'><tr><th>id</th><th>message</th></tr></thead><tbody><tr><td>8</td><td>List(5, List(1, 1, 2, 1, 1, 1))</td></tr></tbody></table></div>"
      ]
     },
     "metadata": {
      "application/vnd.databricks.v1+output": {
       "addedWidgets": {},
       "aggData": [],
       "aggError": "",
       "aggOverflow": false,
       "aggSchema": [],
       "aggSeriesLimitReached": false,
       "aggType": "",
       "arguments": {},
       "columnCustomDisplayInfos": {},
       "data": [
        [
         8,
         [
          5,
          [
           1,
           1,
           2,
           1,
           1,
           1
          ]
         ]
        ]
       ],
       "datasetInfos": [],
       "dbfsResultPath": null,
       "isJsonSchema": true,
       "metadata": {},
       "overflow": false,
       "plotOptions": {
        "customPlotOptions": {},
        "displayType": "table",
        "pivotAggregation": null,
        "pivotColumns": null,
        "xColumns": null,
        "yColumns": null
       },
       "removedWidgets": [],
       "schema": [
        {
         "metadata": "{}",
         "name": "id",
         "type": "\"long\""
        },
        {
         "metadata": "{}",
         "name": "message",
         "type": "{\"type\":\"struct\",\"fields\":[{\"name\":\"level\",\"type\":\"integer\",\"nullable\":true,\"metadata\":{}},{\"name\":\"branchLabel\",\"type\":{\"type\":\"array\",\"elementType\":\"integer\",\"containsNull\":true},\"nullable\":true,\"metadata\":{}}]}"
        }
       ],
       "type": "table"
      }
     },
     "output_type": "display_data"
    },
    {
     "output_type": "stream",
     "name": "stdout",
     "output_type": "stream",
     "text": [
      "Vertices to process\n"
     ]
    },
    {
     "output_type": "display_data",
     "data": {
      "text/html": [
       "<style scoped>\n",
       "  .table-result-container {\n",
       "    max-height: 300px;\n",
       "    overflow: auto;\n",
       "  }\n",
       "  table, th, td {\n",
       "    border: 1px solid black;\n",
       "    border-collapse: collapse;\n",
       "  }\n",
       "  th, td {\n",
       "    padding: 5px;\n",
       "  }\n",
       "  th {\n",
       "    text-align: left;\n",
       "  }\n",
       "</style><div class='table-result-container'><table class='table-result'><thead style='background-color: white'><tr><th>id</th><th>ingredientName</th><th>ingredientClass</th><th>parentIngredientID</th><th>carbon</th><th>level</th><th>branchLabel</th><th>message</th></tr></thead><tbody><tr><td>2</td><td>Dough</td><td>Complex Ingredient</td><td>1</td><td>10</td><td>2</td><td>List(1, 1, 1)</td><td>null</td></tr><tr><td>3</td><td>Tomato Sauce</td><td>Complex Ingredient</td><td>1</td><td>10</td><td>2</td><td>List(1, 1, 2)</td><td>null</td></tr><tr><td>7</td><td>Tomato, Washed</td><td>Processed Ingredient</td><td>6</td><td>10</td><td>4</td><td>List(1, 1, 2, 1, 1)</td><td>null</td></tr><tr><td>4</td><td>Cheese</td><td>Complex Ingredient</td><td>1</td><td>10</td><td>2</td><td>List(1, 1, 3)</td><td>null</td></tr><tr><td>5</td><td>Pepperoni</td><td>Complex Ingredient</td><td>1</td><td>10</td><td>2</td><td>List(1, 1, 4)</td><td>null</td></tr><tr><td>8</td><td>Tomato</td><td>Produce</td><td>7</td><td>10</td><td>5</td><td>List(1, 1, 2, 1, 1, 1)</td><td>null</td></tr><tr><td>1</td><td>Pepperoni Pizza</td><td>Product</td><td>null</td><td>0</td><td>1</td><td>List(1, 1)</td><td>List(1, List(1, 1))</td></tr><tr><td>6</td><td>Tomato, Chopped</td><td>Processed Ingredient</td><td>3</td><td>10</td><td>3</td><td>List(1, 1, 2, 1)</td><td>null</td></tr></tbody></table></div>"
      ]
     },
     "metadata": {
      "application/vnd.databricks.v1+output": {
       "addedWidgets": {},
       "aggData": [],
       "aggError": "",
       "aggOverflow": false,
       "aggSchema": [],
       "aggSeriesLimitReached": false,
       "aggType": "",
       "arguments": {},
       "columnCustomDisplayInfos": {},
       "data": [
        [
         2,
         "Dough",
         "Complex Ingredient",
         1,
         10,
         2,
         [
          1,
          1,
          1
         ],
         null
        ],
        [
         3,
         "Tomato Sauce",
         "Complex Ingredient",
         1,
         10,
         2,
         [
          1,
          1,
          2
         ],
         null
        ],
        [
         7,
         "Tomato, Washed",
         "Processed Ingredient",
         6,
         10,
         4,
         [
          1,
          1,
          2,
          1,
          1
         ],
         null
        ],
        [
         4,
         "Cheese",
         "Complex Ingredient",
         1,
         10,
         2,
         [
          1,
          1,
          3
         ],
         null
        ],
        [
         5,
         "Pepperoni",
         "Complex Ingredient",
         1,
         10,
         2,
         [
          1,
          1,
          4
         ],
         null
        ],
        [
         8,
         "Tomato",
         "Produce",
         7,
         10,
         5,
         [
          1,
          1,
          2,
          1,
          1,
          1
         ],
         null
        ],
        [
         1,
         "Pepperoni Pizza",
         "Product",
         null,
         0,
         1,
         [
          1,
          1
         ],
         [
          1,
          [
           1,
           1
          ]
         ]
        ],
        [
         6,
         "Tomato, Chopped",
         "Processed Ingredient",
         3,
         10,
         3,
         [
          1,
          1,
          2,
          1
         ],
         null
        ]
       ],
       "datasetInfos": [],
       "dbfsResultPath": null,
       "isJsonSchema": true,
       "metadata": {},
       "overflow": false,
       "plotOptions": {
        "customPlotOptions": {},
        "displayType": "table",
        "pivotAggregation": null,
        "pivotColumns": null,
        "xColumns": null,
        "yColumns": null
       },
       "removedWidgets": [],
       "schema": [
        {
         "metadata": "{}",
         "name": "id",
         "type": "\"long\""
        },
        {
         "metadata": "{}",
         "name": "ingredientName",
         "type": "\"string\""
        },
        {
         "metadata": "{}",
         "name": "ingredientClass",
         "type": "\"string\""
        },
        {
         "metadata": "{}",
         "name": "parentIngredientID",
         "type": "\"long\""
        },
        {
         "metadata": "{}",
         "name": "carbon",
         "type": "\"long\""
        },
        {
         "metadata": "{}",
         "name": "level",
         "type": "\"integer\""
        },
        {
         "metadata": "{}",
         "name": "branchLabel",
         "type": "{\"type\":\"array\",\"elementType\":\"integer\",\"containsNull\":true}"
        },
        {
         "metadata": "{}",
         "name": "message",
         "type": "{\"type\":\"struct\",\"fields\":[{\"name\":\"level\",\"type\":\"integer\",\"nullable\":true,\"metadata\":{}},{\"name\":\"branchLabel\",\"type\":{\"type\":\"array\",\"elementType\":\"integer\",\"containsNull\":false},\"nullable\":true,\"metadata\":{}}]}"
        }
       ],
       "type": "table"
      }
     },
     "output_type": "display_data"
    },
    {
     "output_type": "stream",
     "name": "stdout",
     "output_type": "stream",
     "text": [
      "Iteration 4\nNew Levels Propagated\n"
     ]
    },
    {
     "output_type": "display_data",
     "data": {
      "text/html": [
       "<style scoped>\n",
       "  .table-result-container {\n",
       "    max-height: 300px;\n",
       "    overflow: auto;\n",
       "  }\n",
       "  table, th, td {\n",
       "    border: 1px solid black;\n",
       "    border-collapse: collapse;\n",
       "  }\n",
       "  th, td {\n",
       "    padding: 5px;\n",
       "  }\n",
       "  th {\n",
       "    text-align: left;\n",
       "  }\n",
       "</style><div class='table-result-container'><table class='table-result'><thead style='background-color: white'><tr><th>id</th><th>message</th></tr></thead><tbody></tbody></table></div>"
      ]
     },
     "metadata": {
      "application/vnd.databricks.v1+output": {
       "addedWidgets": {},
       "aggData": [],
       "aggError": "",
       "aggOverflow": false,
       "aggSchema": [],
       "aggSeriesLimitReached": false,
       "aggType": "",
       "arguments": {},
       "columnCustomDisplayInfos": {},
       "data": [],
       "datasetInfos": [],
       "dbfsResultPath": null,
       "isJsonSchema": true,
       "metadata": {},
       "overflow": false,
       "plotOptions": {
        "customPlotOptions": {},
        "displayType": "table",
        "pivotAggregation": null,
        "pivotColumns": null,
        "xColumns": null,
        "yColumns": null
       },
       "removedWidgets": [],
       "schema": [
        {
         "metadata": "{}",
         "name": "id",
         "type": "\"long\""
        },
        {
         "metadata": "{}",
         "name": "message",
         "type": "{\"type\":\"struct\",\"fields\":[{\"name\":\"level\",\"type\":\"integer\",\"nullable\":true,\"metadata\":{}},{\"name\":\"branchLabel\",\"type\":{\"type\":\"array\",\"elementType\":\"integer\",\"containsNull\":true},\"nullable\":true,\"metadata\":{}}]}"
        }
       ],
       "type": "table"
      }
     },
     "output_type": "display_data"
    },
    {
     "output_type": "stream",
     "name": "stdout",
     "output_type": "stream",
     "text": [
      "Vertices to process\n"
     ]
    },
    {
     "output_type": "display_data",
     "data": {
      "text/html": [
       "<style scoped>\n",
       "  .table-result-container {\n",
       "    max-height: 300px;\n",
       "    overflow: auto;\n",
       "  }\n",
       "  table, th, td {\n",
       "    border: 1px solid black;\n",
       "    border-collapse: collapse;\n",
       "  }\n",
       "  th, td {\n",
       "    padding: 5px;\n",
       "  }\n",
       "  th {\n",
       "    text-align: left;\n",
       "  }\n",
       "</style><div class='table-result-container'><table class='table-result'><thead style='background-color: white'><tr><th>id</th><th>ingredientName</th><th>ingredientClass</th><th>parentIngredientID</th><th>carbon</th><th>level</th><th>branchLabel</th><th>message</th></tr></thead><tbody><tr><td>1</td><td>Pepperoni Pizza</td><td>Product</td><td>null</td><td>0</td><td>1</td><td>List(1, 1)</td><td>List(1, List(1, 1))</td></tr><tr><td>2</td><td>Dough</td><td>Complex Ingredient</td><td>1</td><td>10</td><td>2</td><td>List(1, 1, 1)</td><td>null</td></tr><tr><td>3</td><td>Tomato Sauce</td><td>Complex Ingredient</td><td>1</td><td>10</td><td>2</td><td>List(1, 1, 2)</td><td>null</td></tr><tr><td>4</td><td>Cheese</td><td>Complex Ingredient</td><td>1</td><td>10</td><td>2</td><td>List(1, 1, 3)</td><td>null</td></tr><tr><td>5</td><td>Pepperoni</td><td>Complex Ingredient</td><td>1</td><td>10</td><td>2</td><td>List(1, 1, 4)</td><td>null</td></tr><tr><td>6</td><td>Tomato, Chopped</td><td>Processed Ingredient</td><td>3</td><td>10</td><td>3</td><td>List(1, 1, 2, 1)</td><td>null</td></tr><tr><td>7</td><td>Tomato, Washed</td><td>Processed Ingredient</td><td>6</td><td>10</td><td>4</td><td>List(1, 1, 2, 1, 1)</td><td>null</td></tr><tr><td>8</td><td>Tomato</td><td>Produce</td><td>7</td><td>10</td><td>5</td><td>List(1, 1, 2, 1, 1, 1)</td><td>null</td></tr></tbody></table></div>"
      ]
     },
     "metadata": {
      "application/vnd.databricks.v1+output": {
       "addedWidgets": {},
       "aggData": [],
       "aggError": "",
       "aggOverflow": false,
       "aggSchema": [],
       "aggSeriesLimitReached": false,
       "aggType": "",
       "arguments": {},
       "columnCustomDisplayInfos": {},
       "data": [
        [
         1,
         "Pepperoni Pizza",
         "Product",
         null,
         0,
         1,
         [
          1,
          1
         ],
         [
          1,
          [
           1,
           1
          ]
         ]
        ],
        [
         2,
         "Dough",
         "Complex Ingredient",
         1,
         10,
         2,
         [
          1,
          1,
          1
         ],
         null
        ],
        [
         3,
         "Tomato Sauce",
         "Complex Ingredient",
         1,
         10,
         2,
         [
          1,
          1,
          2
         ],
         null
        ],
        [
         4,
         "Cheese",
         "Complex Ingredient",
         1,
         10,
         2,
         [
          1,
          1,
          3
         ],
         null
        ],
        [
         5,
         "Pepperoni",
         "Complex Ingredient",
         1,
         10,
         2,
         [
          1,
          1,
          4
         ],
         null
        ],
        [
         6,
         "Tomato, Chopped",
         "Processed Ingredient",
         3,
         10,
         3,
         [
          1,
          1,
          2,
          1
         ],
         null
        ],
        [
         7,
         "Tomato, Washed",
         "Processed Ingredient",
         6,
         10,
         4,
         [
          1,
          1,
          2,
          1,
          1
         ],
         null
        ],
        [
         8,
         "Tomato",
         "Produce",
         7,
         10,
         5,
         [
          1,
          1,
          2,
          1,
          1,
          1
         ],
         null
        ]
       ],
       "datasetInfos": [],
       "dbfsResultPath": null,
       "isJsonSchema": true,
       "metadata": {},
       "overflow": false,
       "plotOptions": {
        "customPlotOptions": {},
        "displayType": "table",
        "pivotAggregation": null,
        "pivotColumns": null,
        "xColumns": null,
        "yColumns": null
       },
       "removedWidgets": [],
       "schema": [
        {
         "metadata": "{}",
         "name": "id",
         "type": "\"long\""
        },
        {
         "metadata": "{}",
         "name": "ingredientName",
         "type": "\"string\""
        },
        {
         "metadata": "{}",
         "name": "ingredientClass",
         "type": "\"string\""
        },
        {
         "metadata": "{}",
         "name": "parentIngredientID",
         "type": "\"long\""
        },
        {
         "metadata": "{}",
         "name": "carbon",
         "type": "\"long\""
        },
        {
         "metadata": "{}",
         "name": "level",
         "type": "\"integer\""
        },
        {
         "metadata": "{}",
         "name": "branchLabel",
         "type": "{\"type\":\"array\",\"elementType\":\"integer\",\"containsNull\":true}"
        },
        {
         "metadata": "{}",
         "name": "message",
         "type": "{\"type\":\"struct\",\"fields\":[{\"name\":\"level\",\"type\":\"integer\",\"nullable\":true,\"metadata\":{}},{\"name\":\"branchLabel\",\"type\":{\"type\":\"array\",\"elementType\":\"integer\",\"containsNull\":false},\"nullable\":true,\"metadata\":{}}]}"
        }
       ],
       "type": "table"
      }
     },
     "output_type": "display_data"
    },
    {
     "output_type": "stream",
     "name": "stdout",
     "output_type": "stream",
     "text": [
      "Iteration 5\nNew Levels Propagated\n"
     ]
    },
    {
     "output_type": "display_data",
     "data": {
      "text/html": [
       "<style scoped>\n",
       "  .table-result-container {\n",
       "    max-height: 300px;\n",
       "    overflow: auto;\n",
       "  }\n",
       "  table, th, td {\n",
       "    border: 1px solid black;\n",
       "    border-collapse: collapse;\n",
       "  }\n",
       "  th, td {\n",
       "    padding: 5px;\n",
       "  }\n",
       "  th {\n",
       "    text-align: left;\n",
       "  }\n",
       "</style><div class='table-result-container'><table class='table-result'><thead style='background-color: white'><tr><th>id</th><th>message</th></tr></thead><tbody></tbody></table></div>"
      ]
     },
     "metadata": {
      "application/vnd.databricks.v1+output": {
       "addedWidgets": {},
       "aggData": [],
       "aggError": "",
       "aggOverflow": false,
       "aggSchema": [],
       "aggSeriesLimitReached": false,
       "aggType": "",
       "arguments": {},
       "columnCustomDisplayInfos": {},
       "data": [],
       "datasetInfos": [],
       "dbfsResultPath": null,
       "isJsonSchema": true,
       "metadata": {},
       "overflow": false,
       "plotOptions": {
        "customPlotOptions": {},
        "displayType": "table",
        "pivotAggregation": null,
        "pivotColumns": null,
        "xColumns": null,
        "yColumns": null
       },
       "removedWidgets": [],
       "schema": [
        {
         "metadata": "{}",
         "name": "id",
         "type": "\"long\""
        },
        {
         "metadata": "{}",
         "name": "message",
         "type": "{\"type\":\"struct\",\"fields\":[{\"name\":\"level\",\"type\":\"integer\",\"nullable\":true,\"metadata\":{}},{\"name\":\"branchLabel\",\"type\":{\"type\":\"array\",\"elementType\":\"integer\",\"containsNull\":true},\"nullable\":true,\"metadata\":{}}]}"
        }
       ],
       "type": "table"
      }
     },
     "output_type": "display_data"
    },
    {
     "output_type": "stream",
     "name": "stdout",
     "output_type": "stream",
     "text": [
      "Final - All levels and tree branches set\n"
     ]
    },
    {
     "output_type": "display_data",
     "data": {
      "text/html": [
       "<style scoped>\n",
       "  .table-result-container {\n",
       "    max-height: 300px;\n",
       "    overflow: auto;\n",
       "  }\n",
       "  table, th, td {\n",
       "    border: 1px solid black;\n",
       "    border-collapse: collapse;\n",
       "  }\n",
       "  th, td {\n",
       "    padding: 5px;\n",
       "  }\n",
       "  th {\n",
       "    text-align: left;\n",
       "  }\n",
       "</style><div class='table-result-container'><table class='table-result'><thead style='background-color: white'><tr><th>id</th><th>ingredientName</th><th>ingredientClass</th><th>parentIngredientID</th><th>carbon</th><th>level</th><th>branchLabel</th><th>message</th></tr></thead><tbody><tr><td>2</td><td>Dough</td><td>Complex Ingredient</td><td>1</td><td>10</td><td>2</td><td>List(1, 1, 1)</td><td>null</td></tr><tr><td>3</td><td>Tomato Sauce</td><td>Complex Ingredient</td><td>1</td><td>10</td><td>2</td><td>List(1, 1, 2)</td><td>null</td></tr><tr><td>7</td><td>Tomato, Washed</td><td>Processed Ingredient</td><td>6</td><td>10</td><td>4</td><td>List(1, 1, 2, 1, 1)</td><td>null</td></tr><tr><td>4</td><td>Cheese</td><td>Complex Ingredient</td><td>1</td><td>10</td><td>2</td><td>List(1, 1, 3)</td><td>null</td></tr><tr><td>5</td><td>Pepperoni</td><td>Complex Ingredient</td><td>1</td><td>10</td><td>2</td><td>List(1, 1, 4)</td><td>null</td></tr><tr><td>8</td><td>Tomato</td><td>Produce</td><td>7</td><td>10</td><td>5</td><td>List(1, 1, 2, 1, 1, 1)</td><td>null</td></tr><tr><td>1</td><td>Pepperoni Pizza</td><td>Product</td><td>null</td><td>0</td><td>1</td><td>List(1, 1)</td><td>List(1, List(1, 1))</td></tr><tr><td>6</td><td>Tomato, Chopped</td><td>Processed Ingredient</td><td>3</td><td>10</td><td>3</td><td>List(1, 1, 2, 1)</td><td>null</td></tr></tbody></table></div>"
      ]
     },
     "metadata": {
      "application/vnd.databricks.v1+output": {
       "addedWidgets": {},
       "aggData": [],
       "aggError": "",
       "aggOverflow": false,
       "aggSchema": [],
       "aggSeriesLimitReached": false,
       "aggType": "",
       "arguments": {},
       "columnCustomDisplayInfos": {},
       "data": [
        [
         2,
         "Dough",
         "Complex Ingredient",
         1,
         10,
         2,
         [
          1,
          1,
          1
         ],
         null
        ],
        [
         3,
         "Tomato Sauce",
         "Complex Ingredient",
         1,
         10,
         2,
         [
          1,
          1,
          2
         ],
         null
        ],
        [
         7,
         "Tomato, Washed",
         "Processed Ingredient",
         6,
         10,
         4,
         [
          1,
          1,
          2,
          1,
          1
         ],
         null
        ],
        [
         4,
         "Cheese",
         "Complex Ingredient",
         1,
         10,
         2,
         [
          1,
          1,
          3
         ],
         null
        ],
        [
         5,
         "Pepperoni",
         "Complex Ingredient",
         1,
         10,
         2,
         [
          1,
          1,
          4
         ],
         null
        ],
        [
         8,
         "Tomato",
         "Produce",
         7,
         10,
         5,
         [
          1,
          1,
          2,
          1,
          1,
          1
         ],
         null
        ],
        [
         1,
         "Pepperoni Pizza",
         "Product",
         null,
         0,
         1,
         [
          1,
          1
         ],
         [
          1,
          [
           1,
           1
          ]
         ]
        ],
        [
         6,
         "Tomato, Chopped",
         "Processed Ingredient",
         3,
         10,
         3,
         [
          1,
          1,
          2,
          1
         ],
         null
        ]
       ],
       "datasetInfos": [],
       "dbfsResultPath": null,
       "isJsonSchema": true,
       "metadata": {},
       "overflow": false,
       "plotOptions": {
        "customPlotOptions": {},
        "displayType": "table",
        "pivotAggregation": null,
        "pivotColumns": null,
        "xColumns": null,
        "yColumns": null
       },
       "removedWidgets": [],
       "schema": [
        {
         "metadata": "{}",
         "name": "id",
         "type": "\"long\""
        },
        {
         "metadata": "{}",
         "name": "ingredientName",
         "type": "\"string\""
        },
        {
         "metadata": "{}",
         "name": "ingredientClass",
         "type": "\"string\""
        },
        {
         "metadata": "{}",
         "name": "parentIngredientID",
         "type": "\"long\""
        },
        {
         "metadata": "{}",
         "name": "carbon",
         "type": "\"long\""
        },
        {
         "metadata": "{}",
         "name": "level",
         "type": "\"integer\""
        },
        {
         "metadata": "{}",
         "name": "branchLabel",
         "type": "{\"type\":\"array\",\"elementType\":\"integer\",\"containsNull\":true}"
        },
        {
         "metadata": "{}",
         "name": "message",
         "type": "{\"type\":\"struct\",\"fields\":[{\"name\":\"level\",\"type\":\"integer\",\"nullable\":true,\"metadata\":{}},{\"name\":\"branchLabel\",\"type\":{\"type\":\"array\",\"elementType\":\"integer\",\"containsNull\":false},\"nullable\":true,\"metadata\":{}}]}"
        }
       ],
       "type": "table"
      }
     },
     "output_type": "display_data"
    },
    {
     "output_type": "stream",
     "name": "stdout",
     "output_type": "stream",
     "text": [
      "Check precisely how many levels we'll get in a graph\n"
     ]
    },
    {
     "output_type": "execute_result",
     "data": {
      "text/plain": [
       "5"
      ]
     },
     "execution_count": 21,
     "metadata": {},
     "output_type": "execute_result"
    }
   ],
   "source": [
    "def set_tree_level_labels(graph: GraphFrame, max_iters= 50, min_iters= 5):\n",
    "\n",
    "    window_id_order = Window().partitionBy().orderBy(\"id\")\n",
    "    branch_label_expr = array(row_number().over(window_id_order), lit(1))\n",
    "    message_expr = struct(col(\"level\"), col(f\"branchLabel\"))\n",
    "\n",
    "    vertex_outbound_conns_df = graph.outDegrees\n",
    "\n",
    "    vertices_leveled = (graph.vertices.join(vertex_outbound_conns_df, \n",
    "                                        on=[\"id\"], \n",
    "                                        how=\"left\")\n",
    "                    .withColumn(\"level\", when(col(\"outDegree\").isNull(), lit(1)))\n",
    "                    .withColumn(\"branchLabel\", when(col(\"outDegree\").isNull(), branch_label_expr))\n",
    "                    .withColumn(\"message\", when(col(\"outDegree\").isNull(), message_expr))\n",
    "                    .drop(\"outDegree\")\n",
    "    )   \n",
    "    print(\"Vertices\")\n",
    "    vertices_leveled.display()\n",
    "\n",
    "    window_src_dst = Window().partitionBy(\"dst\").orderBy(\"src\")\n",
    "\n",
    "    edges_child_numbered = graph.edges.withColumn(\"childNumber\", row_number().over(window_src_dst))\n",
    "    print(\"Edges Child Numbered\")\n",
    "    edges_child_numbered.display()\n",
    "    \n",
    "    v = vertices_leveled\n",
    "    e = edges_child_numbered\n",
    "    gx = GraphFrame(v, e)\n",
    "\n",
    "    for i in range(max_iters):\n",
    "        print(f\"Iteration {i}\")\n",
    "\n",
    "        aggregate_msg_expr = first(AM.msg).alias(\"message\")\n",
    "        msg_to_src_expr = struct((AM.dst[\"message\"].getField(\"level\") + 1).alias(\"level\"),\n",
    "                                  array_append(AM.dst[\"message\"].getField(\"branchLabel\"), AM.edge[\"childNumber\"]).alias(\"branchLabel\"))\n",
    "        \n",
    "        new_levels = gx.aggregateMessages(\n",
    "            aggCol= aggregate_msg_expr,\n",
    "            sendToSrc= msg_to_src_expr\n",
    "        )\n",
    "\n",
    "        print(\"New Levels Propagated\")\n",
    "        new_levels.display()\n",
    "        \n",
    "        if i >= min_iters and new_levels.count() == 0:\n",
    "            break\n",
    "\n",
    "        v = (\n",
    "            v.alias(\"l\")\n",
    "            .join(new_levels.alias(\"r\"), \"id\", \"left_outer\")\n",
    "            .withColumn(\"level\", coalesce(col(\"l.level\"), col(\"r.message.level\")))\n",
    "            .withColumn(\n",
    "                \"branchLabel\",\n",
    "                coalesce(col(\"l.branchLabel\"), col(\"r.message.branchLabel\")),\n",
    "            )\n",
    "            .drop(col(\"r.message\"))\n",
    "        )\n",
    "        print(\"Vertices to process\")\n",
    "        v.display()\n",
    "        cachedNewVertices = AM.getCachedDataFrame(new_levels)\n",
    "        gx = GraphFrame(cachedNewVertices, e)\n",
    "\n",
    "    print(\"Final - All levels and tree branches set\")\n",
    "    v.display()\n",
    "    return GraphFrame(v.drop(\"message\"), e)\n",
    "\n",
    "graph_leveled = set_tree_level_labels(graph, max_iters= 15) # You must set always a maximum level of iterations\n",
    "\n",
    "max_levels = graph_leveled.vertices.groupBy().max(\"level\").first()[0]\n",
    "print(\"Check precisely how many levels we'll get in a graph\")\n",
    "max_levels"
   ]
  },
  {
   "cell_type": "code",
   "execution_count": 0,
   "metadata": {
    "application/vnd.databricks.v1+cell": {
     "cellMetadata": {
      "byteLimit": 2048000,
      "rowLimit": 10000
     },
     "inputWidgets": {},
     "nuid": "35d4f897-8887-4df3-89c4-9370c8ab76b1",
     "showTitle": true,
     "title": "Clean up potential missing nodes"
    }
   },
   "outputs": [],
   "source": [
    "\"\"\"\n",
    "Sometimes we might have cases where we model our data and generate orphan nodes (vertex) by dropping certain rows to meet certain criteria. In order to propage effectively, we need to remove them. Be mindful to keep your graph structure intact and robust before using any MPI algorithm/interface like Pregel, Aggregate Message, Page Rank etc.\n",
    "\"\"\"\n",
    "new_vertices = (graph_leveled.vertices.filter(col(\"level\").isNotNull())\n",
    "                                      .withColumn(\"graphProcessOrder\", lit(max_levels) - col(f\"level\"))\n",
    "               )\n",
    "\n",
    "edges_vertices_join_expr = (col(\"id\") == col(\"src\")) | (col(\"id\") == col(\"dst\"))\n",
    "\n",
    "new_edges = graph_leveled.edges.join(new_vertices, edges_vertices_join_expr, \"leftsemi\")\n",
    "\n",
    "graph_with_levels = GraphFrame(new_vertices, new_edges).cache() # Caching is extremely important when dealing with iterative algorithms. Don't fogert to unpersist to avoid GC pressure"
   ]
  },
  {
   "cell_type": "code",
   "execution_count": 0,
   "metadata": {
    "application/vnd.databricks.v1+cell": {
     "cellMetadata": {
      "byteLimit": 2048000,
      "rowLimit": 10000
     },
     "inputWidgets": {},
     "nuid": "77566334-d3d7-4589-8d8a-196c3bc7afc4",
     "showTitle": true,
     "title": "Pregel Algorithm - Propagate Values Bottom-Up"
    }
   },
   "outputs": [],
   "source": [
    "# NOTE: Struct is a helpful structure to manage MPI across the nodes. we can simply propagate more than one column and read/aggregate easily.\n",
    "\n",
    "import pyspark.sql.functions as F\n",
    "\n",
    "from graphframes import GraphFrame\n",
    "from graphframes.lib import Pregel\n",
    "from typing import Dict, Callable, Union\n",
    "from pyspark.sql.types import StructField\n",
    "from pyspark.sql import Column\n",
    "\n",
    "\n",
    "def pregel_aggregation_by_levels(\n",
    "    g: GraphFrame,\n",
    "    vertex_name: str, \n",
    "    vertex_initial_value: Dict[str, Column], \n",
    "    child_msg_value: Callable[[str], StructField], \n",
    "    children_aggregation: Dict[str, Column], \n",
    "    vertex_update_after_aggregation: Union[Column, Dict[str, Column]],\n",
    "    order_column: str,\n",
    "    max_iters: int = 10,\n",
    "    debug=True,\n",
    "):\n",
    "        \n",
    "    vertex_initial_value = F.struct(*[v.alias(k) for k, v in vertex_initial_value.items()])  # Convert dict to actual struct\n",
    "    children_aggregation = F.struct(*[v.alias(k) for k, v in children_aggregation.items()])  # Convert dict to actual struct\n",
    "    \n",
    "    if isinstance(vertex_update_after_aggregation, dict):\n",
    "        vertex_update_after_aggregation = F.struct(*[v.alias(k) for k, v in vertex_update_after_aggregation.items()])  # Convert dict to actual struct\n",
    "\n",
    "    initial_iteration_message = F.when(F.col(\"inDegree\").isNull(), vertex_initial_value)  # Start the loop with only the leaves\n",
    "\n",
    "    v = (        \n",
    "        g.vertices.join(g.inDegrees, [\"id\"],\"left\")\n",
    "        .cache()\n",
    "    )\n",
    "\n",
    "    v.display()\n",
    "\n",
    "    e = g.edges.cache()\n",
    "    gx = GraphFrame(v, e)\n",
    "\n",
    "    __currentIterationMessage = \"__currentIterationMessage\"\n",
    "    __currentIterationOrder = \"__currentIterationOrder\"\n",
    "\n",
    "    nV = (\n",
    "        gx.pregel\n",
    "        .setMaxIter(max_iters)  # This is important, pregel will do this number of iterations \n",
    "        .withVertexColumn(\n",
    "            colName=vertex_name,\n",
    "            initialExpr=vertex_initial_value,\n",
    "            updateAfterAggMsgsExpr=vertex_update_after_aggregation,\n",
    "        )\n",
    "        .withVertexColumn(\n",
    "            colName=__currentIterationMessage, \n",
    "            initialExpr=initial_iteration_message,\n",
    "            updateAfterAggMsgsExpr=F.when(\n",
    "                (\n",
    "                    (F.col(__currentIterationOrder) <= 0) |  # Update all messages that are down the current level\n",
    "                    ((F.col(__currentIterationOrder) <= 1) & Pregel.msg().isNotNull())  # For current level messages, update them\n",
    "                ), \n",
    "                Pregel.msg())\n",
    "                .otherwise(F.col(__currentIterationMessage)),\n",
    "        )\n",
    "        .withVertexColumn(\n",
    "            colName=__currentIterationOrder,\n",
    "            initialExpr=F.col(order_column),\n",
    "            updateAfterAggMsgsExpr=F.col(__currentIterationOrder) - 1\n",
    "        )\n",
    "        .sendMsgToDst(\n",
    "            msgExpr=F.when(Pregel.src(__currentIterationOrder) == 0, child_msg_value(__currentIterationMessage))\n",
    "        )\n",
    "        .aggMsgs(\n",
    "            aggExpr=children_aggregation\n",
    "        )\n",
    "        .run()\n",
    "    )\n",
    "    \n",
    "    if not debug:\n",
    "        nV = nV.drop(\"inDegree\", __currentIterationMessage, __currentIterationOrder)\n",
    "\n",
    "    nV.display()\n",
    "\n",
    "    return GraphFrame(nV, e)"
   ]
  },
  {
   "cell_type": "code",
   "execution_count": 0,
   "metadata": {
    "application/vnd.databricks.v1+cell": {
     "cellMetadata": {
      "byteLimit": 2048000,
      "rowLimit": 10000
     },
     "inputWidgets": {},
     "nuid": "308e02f1-070b-468f-ad3e-30dda71b5c73",
     "showTitle": false,
     "title": ""
    }
   },
   "outputs": [
    {
     "output_type": "display_data",
     "data": {
      "text/html": [
       "<style scoped>\n",
       "  .table-result-container {\n",
       "    max-height: 300px;\n",
       "    overflow: auto;\n",
       "  }\n",
       "  table, th, td {\n",
       "    border: 1px solid black;\n",
       "    border-collapse: collapse;\n",
       "  }\n",
       "  th, td {\n",
       "    padding: 5px;\n",
       "  }\n",
       "  th {\n",
       "    text-align: left;\n",
       "  }\n",
       "</style><div class='table-result-container'><table class='table-result'><thead style='background-color: white'><tr><th>id</th><th>ingredientName</th><th>ingredientClass</th><th>parentIngredientID</th><th>carbon</th><th>level</th><th>branchLabel</th><th>graphProcessOrder</th></tr></thead><tbody><tr><td>1</td><td>Pepperoni Pizza</td><td>Product</td><td>null</td><td>0</td><td>1</td><td>List(1, 1)</td><td>4</td></tr><tr><td>2</td><td>Dough</td><td>Complex Ingredient</td><td>1</td><td>10</td><td>2</td><td>List(1, 1, 1)</td><td>3</td></tr><tr><td>3</td><td>Tomato Sauce</td><td>Complex Ingredient</td><td>1</td><td>10</td><td>2</td><td>List(1, 1, 2)</td><td>3</td></tr><tr><td>4</td><td>Cheese</td><td>Complex Ingredient</td><td>1</td><td>10</td><td>2</td><td>List(1, 1, 3)</td><td>3</td></tr><tr><td>5</td><td>Pepperoni</td><td>Complex Ingredient</td><td>1</td><td>10</td><td>2</td><td>List(1, 1, 4)</td><td>3</td></tr><tr><td>6</td><td>Tomato, Chopped</td><td>Processed Ingredient</td><td>3</td><td>10</td><td>3</td><td>List(1, 1, 2, 1)</td><td>2</td></tr><tr><td>7</td><td>Tomato, Washed</td><td>Processed Ingredient</td><td>6</td><td>10</td><td>4</td><td>List(1, 1, 2, 1, 1)</td><td>1</td></tr><tr><td>8</td><td>Tomato</td><td>Produce</td><td>7</td><td>10</td><td>5</td><td>List(1, 1, 2, 1, 1, 1)</td><td>0</td></tr></tbody></table></div>"
      ]
     },
     "metadata": {
      "application/vnd.databricks.v1+output": {
       "addedWidgets": {},
       "aggData": [],
       "aggError": "",
       "aggOverflow": false,
       "aggSchema": [],
       "aggSeriesLimitReached": false,
       "aggType": "",
       "arguments": {},
       "columnCustomDisplayInfos": {},
       "data": [
        [
         1,
         "Pepperoni Pizza",
         "Product",
         null,
         0,
         1,
         [
          1,
          1
         ],
         4
        ],
        [
         2,
         "Dough",
         "Complex Ingredient",
         1,
         10,
         2,
         [
          1,
          1,
          1
         ],
         3
        ],
        [
         3,
         "Tomato Sauce",
         "Complex Ingredient",
         1,
         10,
         2,
         [
          1,
          1,
          2
         ],
         3
        ],
        [
         4,
         "Cheese",
         "Complex Ingredient",
         1,
         10,
         2,
         [
          1,
          1,
          3
         ],
         3
        ],
        [
         5,
         "Pepperoni",
         "Complex Ingredient",
         1,
         10,
         2,
         [
          1,
          1,
          4
         ],
         3
        ],
        [
         6,
         "Tomato, Chopped",
         "Processed Ingredient",
         3,
         10,
         3,
         [
          1,
          1,
          2,
          1
         ],
         2
        ],
        [
         7,
         "Tomato, Washed",
         "Processed Ingredient",
         6,
         10,
         4,
         [
          1,
          1,
          2,
          1,
          1
         ],
         1
        ],
        [
         8,
         "Tomato",
         "Produce",
         7,
         10,
         5,
         [
          1,
          1,
          2,
          1,
          1,
          1
         ],
         0
        ]
       ],
       "datasetInfos": [],
       "dbfsResultPath": null,
       "isJsonSchema": true,
       "metadata": {},
       "overflow": false,
       "plotOptions": {
        "customPlotOptions": {},
        "displayType": "table",
        "pivotAggregation": null,
        "pivotColumns": null,
        "xColumns": null,
        "yColumns": null
       },
       "removedWidgets": [],
       "schema": [
        {
         "metadata": "{}",
         "name": "id",
         "type": "\"long\""
        },
        {
         "metadata": "{}",
         "name": "ingredientName",
         "type": "\"string\""
        },
        {
         "metadata": "{}",
         "name": "ingredientClass",
         "type": "\"string\""
        },
        {
         "metadata": "{}",
         "name": "parentIngredientID",
         "type": "\"long\""
        },
        {
         "metadata": "{}",
         "name": "carbon",
         "type": "\"long\""
        },
        {
         "metadata": "{}",
         "name": "level",
         "type": "\"integer\""
        },
        {
         "metadata": "{}",
         "name": "branchLabel",
         "type": "{\"type\":\"array\",\"elementType\":\"integer\",\"containsNull\":true}"
        },
        {
         "metadata": "{}",
         "name": "graphProcessOrder",
         "type": "\"integer\""
        }
       ],
       "type": "table"
      }
     },
     "output_type": "display_data"
    },
    {
     "output_type": "display_data",
     "data": {
      "text/html": [
       "<style scoped>\n",
       "  .table-result-container {\n",
       "    max-height: 300px;\n",
       "    overflow: auto;\n",
       "  }\n",
       "  table, th, td {\n",
       "    border: 1px solid black;\n",
       "    border-collapse: collapse;\n",
       "  }\n",
       "  th, td {\n",
       "    padding: 5px;\n",
       "  }\n",
       "  th {\n",
       "    text-align: left;\n",
       "  }\n",
       "</style><div class='table-result-container'><table class='table-result'><thead style='background-color: white'><tr><th>src</th><th>dst</th><th>childNumber</th></tr></thead><tbody><tr><td>6</td><td>3</td><td>1</td></tr><tr><td>8</td><td>7</td><td>1</td></tr><tr><td>2</td><td>1</td><td>1</td></tr><tr><td>3</td><td>1</td><td>2</td></tr><tr><td>4</td><td>1</td><td>3</td></tr><tr><td>5</td><td>1</td><td>4</td></tr><tr><td>7</td><td>6</td><td>1</td></tr></tbody></table></div>"
      ]
     },
     "metadata": {
      "application/vnd.databricks.v1+output": {
       "addedWidgets": {},
       "aggData": [],
       "aggError": "",
       "aggOverflow": false,
       "aggSchema": [],
       "aggSeriesLimitReached": false,
       "aggType": "",
       "arguments": {},
       "columnCustomDisplayInfos": {},
       "data": [
        [
         6,
         3,
         1
        ],
        [
         8,
         7,
         1
        ],
        [
         2,
         1,
         1
        ],
        [
         3,
         1,
         2
        ],
        [
         4,
         1,
         3
        ],
        [
         5,
         1,
         4
        ],
        [
         7,
         6,
         1
        ]
       ],
       "datasetInfos": [],
       "dbfsResultPath": null,
       "isJsonSchema": true,
       "metadata": {},
       "overflow": false,
       "plotOptions": {
        "customPlotOptions": {},
        "displayType": "table",
        "pivotAggregation": null,
        "pivotColumns": null,
        "xColumns": null,
        "yColumns": null
       },
       "removedWidgets": [],
       "schema": [
        {
         "metadata": "{}",
         "name": "src",
         "type": "\"long\""
        },
        {
         "metadata": "{}",
         "name": "dst",
         "type": "\"long\""
        },
        {
         "metadata": "{}",
         "name": "childNumber",
         "type": "\"integer\""
        }
       ],
       "type": "table"
      }
     },
     "output_type": "display_data"
    }
   ],
   "source": [
    "graph_with_levels.vertices.display()\n",
    "\n",
    "graph_with_levels.edges.display()"
   ]
  },
  {
   "cell_type": "code",
   "execution_count": 0,
   "metadata": {
    "application/vnd.databricks.v1+cell": {
     "cellMetadata": {
      "byteLimit": 2048000,
      "rowLimit": 10000
     },
     "inputWidgets": {},
     "nuid": "6aad8949-4734-4a17-8d91-b04a08269f9f",
     "showTitle": true,
     "title": "Run Pregel algorithm by levels of the tree"
    }
   },
   "outputs": [
    {
     "output_type": "display_data",
     "data": {
      "text/html": [
       "<style scoped>\n",
       "  .table-result-container {\n",
       "    max-height: 300px;\n",
       "    overflow: auto;\n",
       "  }\n",
       "  table, th, td {\n",
       "    border: 1px solid black;\n",
       "    border-collapse: collapse;\n",
       "  }\n",
       "  th, td {\n",
       "    padding: 5px;\n",
       "  }\n",
       "  th {\n",
       "    text-align: left;\n",
       "  }\n",
       "</style><div class='table-result-container'><table class='table-result'><thead style='background-color: white'><tr><th>id</th><th>ingredientName</th><th>ingredientClass</th><th>parentIngredientID</th><th>carbon</th><th>level</th><th>branchLabel</th><th>graphProcessOrder</th><th>inDegree</th></tr></thead><tbody><tr><td>1</td><td>Pepperoni Pizza</td><td>Product</td><td>null</td><td>0</td><td>1</td><td>List(1, 1)</td><td>4</td><td>4</td></tr><tr><td>2</td><td>Dough</td><td>Complex Ingredient</td><td>1</td><td>10</td><td>2</td><td>List(1, 1, 1)</td><td>3</td><td>null</td></tr><tr><td>3</td><td>Tomato Sauce</td><td>Complex Ingredient</td><td>1</td><td>10</td><td>2</td><td>List(1, 1, 2)</td><td>3</td><td>1</td></tr><tr><td>4</td><td>Cheese</td><td>Complex Ingredient</td><td>1</td><td>10</td><td>2</td><td>List(1, 1, 3)</td><td>3</td><td>null</td></tr><tr><td>5</td><td>Pepperoni</td><td>Complex Ingredient</td><td>1</td><td>10</td><td>2</td><td>List(1, 1, 4)</td><td>3</td><td>null</td></tr><tr><td>6</td><td>Tomato, Chopped</td><td>Processed Ingredient</td><td>3</td><td>10</td><td>3</td><td>List(1, 1, 2, 1)</td><td>2</td><td>1</td></tr><tr><td>7</td><td>Tomato, Washed</td><td>Processed Ingredient</td><td>6</td><td>10</td><td>4</td><td>List(1, 1, 2, 1, 1)</td><td>1</td><td>1</td></tr><tr><td>8</td><td>Tomato</td><td>Produce</td><td>7</td><td>10</td><td>5</td><td>List(1, 1, 2, 1, 1, 1)</td><td>0</td><td>null</td></tr></tbody></table></div>"
      ]
     },
     "metadata": {
      "application/vnd.databricks.v1+output": {
       "addedWidgets": {},
       "aggData": [],
       "aggError": "",
       "aggOverflow": false,
       "aggSchema": [],
       "aggSeriesLimitReached": false,
       "aggType": "",
       "arguments": {},
       "columnCustomDisplayInfos": {},
       "data": [
        [
         1,
         "Pepperoni Pizza",
         "Product",
         null,
         0,
         1,
         [
          1,
          1
         ],
         4,
         4
        ],
        [
         2,
         "Dough",
         "Complex Ingredient",
         1,
         10,
         2,
         [
          1,
          1,
          1
         ],
         3,
         null
        ],
        [
         3,
         "Tomato Sauce",
         "Complex Ingredient",
         1,
         10,
         2,
         [
          1,
          1,
          2
         ],
         3,
         1
        ],
        [
         4,
         "Cheese",
         "Complex Ingredient",
         1,
         10,
         2,
         [
          1,
          1,
          3
         ],
         3,
         null
        ],
        [
         5,
         "Pepperoni",
         "Complex Ingredient",
         1,
         10,
         2,
         [
          1,
          1,
          4
         ],
         3,
         null
        ],
        [
         6,
         "Tomato, Chopped",
         "Processed Ingredient",
         3,
         10,
         3,
         [
          1,
          1,
          2,
          1
         ],
         2,
         1
        ],
        [
         7,
         "Tomato, Washed",
         "Processed Ingredient",
         6,
         10,
         4,
         [
          1,
          1,
          2,
          1,
          1
         ],
         1,
         1
        ],
        [
         8,
         "Tomato",
         "Produce",
         7,
         10,
         5,
         [
          1,
          1,
          2,
          1,
          1,
          1
         ],
         0,
         null
        ]
       ],
       "datasetInfos": [],
       "dbfsResultPath": null,
       "isJsonSchema": true,
       "metadata": {},
       "overflow": false,
       "plotOptions": {
        "customPlotOptions": {},
        "displayType": "table",
        "pivotAggregation": null,
        "pivotColumns": null,
        "xColumns": null,
        "yColumns": null
       },
       "removedWidgets": [],
       "schema": [
        {
         "metadata": "{}",
         "name": "id",
         "type": "\"long\""
        },
        {
         "metadata": "{}",
         "name": "ingredientName",
         "type": "\"string\""
        },
        {
         "metadata": "{}",
         "name": "ingredientClass",
         "type": "\"string\""
        },
        {
         "metadata": "{}",
         "name": "parentIngredientID",
         "type": "\"long\""
        },
        {
         "metadata": "{}",
         "name": "carbon",
         "type": "\"long\""
        },
        {
         "metadata": "{}",
         "name": "level",
         "type": "\"integer\""
        },
        {
         "metadata": "{}",
         "name": "branchLabel",
         "type": "{\"type\":\"array\",\"elementType\":\"integer\",\"containsNull\":true}"
        },
        {
         "metadata": "{}",
         "name": "graphProcessOrder",
         "type": "\"integer\""
        },
        {
         "metadata": "{}",
         "name": "inDegree",
         "type": "\"integer\""
        }
       ],
       "type": "table"
      }
     },
     "output_type": "display_data"
    },
    {
     "output_type": "display_data",
     "data": {
      "text/html": [
       "<style scoped>\n",
       "  .table-result-container {\n",
       "    max-height: 300px;\n",
       "    overflow: auto;\n",
       "  }\n",
       "  table, th, td {\n",
       "    border: 1px solid black;\n",
       "    border-collapse: collapse;\n",
       "  }\n",
       "  th, td {\n",
       "    padding: 5px;\n",
       "  }\n",
       "  th {\n",
       "    text-align: left;\n",
       "  }\n",
       "</style><div class='table-result-container'><table class='table-result'><thead style='background-color: white'><tr><th>id</th><th>efAgg</th><th>__currentIterationMessage</th><th>__currentIterationOrder</th><th>ingredientName</th><th>ingredientClass</th><th>parentIngredientID</th><th>carbon</th><th>level</th><th>branchLabel</th><th>graphProcessOrder</th><th>inDegree</th></tr></thead><tbody><tr><td>2</td><td>null</td><td>List(10)</td><td>2</td><td>Dough</td><td>Complex Ingredient</td><td>1</td><td>10</td><td>2</td><td>List(1, 1, 1)</td><td>3</td><td>null</td></tr><tr><td>3</td><td>null</td><td>null</td><td>2</td><td>Tomato Sauce</td><td>Complex Ingredient</td><td>1</td><td>10</td><td>2</td><td>List(1, 1, 2)</td><td>3</td><td>1</td></tr><tr><td>7</td><td>20</td><td>List(10)</td><td>0</td><td>Tomato, Washed</td><td>Processed Ingredient</td><td>6</td><td>10</td><td>4</td><td>List(1, 1, 2, 1, 1)</td><td>1</td><td>1</td></tr><tr><td>4</td><td>null</td><td>List(10)</td><td>2</td><td>Cheese</td><td>Complex Ingredient</td><td>1</td><td>10</td><td>2</td><td>List(1, 1, 3)</td><td>3</td><td>null</td></tr><tr><td>5</td><td>null</td><td>List(10)</td><td>2</td><td>Pepperoni</td><td>Complex Ingredient</td><td>1</td><td>10</td><td>2</td><td>List(1, 1, 4)</td><td>3</td><td>null</td></tr><tr><td>8</td><td>null</td><td>null</td><td>-1</td><td>Tomato</td><td>Produce</td><td>7</td><td>10</td><td>5</td><td>List(1, 1, 2, 1, 1, 1)</td><td>0</td><td>null</td></tr><tr><td>1</td><td>null</td><td>null</td><td>3</td><td>Pepperoni Pizza</td><td>Product</td><td>null</td><td>0</td><td>1</td><td>List(1, 1)</td><td>4</td><td>4</td></tr><tr><td>6</td><td>null</td><td>null</td><td>1</td><td>Tomato, Chopped</td><td>Processed Ingredient</td><td>3</td><td>10</td><td>3</td><td>List(1, 1, 2, 1)</td><td>2</td><td>1</td></tr></tbody></table></div>"
      ]
     },
     "metadata": {
      "application/vnd.databricks.v1+output": {
       "addedWidgets": {},
       "aggData": [],
       "aggError": "",
       "aggOverflow": false,
       "aggSchema": [],
       "aggSeriesLimitReached": false,
       "aggType": "",
       "arguments": {},
       "columnCustomDisplayInfos": {},
       "data": [
        [
         2,
         null,
         [
          10
         ],
         2,
         "Dough",
         "Complex Ingredient",
         1,
         10,
         2,
         [
          1,
          1,
          1
         ],
         3,
         null
        ],
        [
         3,
         null,
         null,
         2,
         "Tomato Sauce",
         "Complex Ingredient",
         1,
         10,
         2,
         [
          1,
          1,
          2
         ],
         3,
         1
        ],
        [
         7,
         20,
         [
          10
         ],
         0,
         "Tomato, Washed",
         "Processed Ingredient",
         6,
         10,
         4,
         [
          1,
          1,
          2,
          1,
          1
         ],
         1,
         1
        ],
        [
         4,
         null,
         [
          10
         ],
         2,
         "Cheese",
         "Complex Ingredient",
         1,
         10,
         2,
         [
          1,
          1,
          3
         ],
         3,
         null
        ],
        [
         5,
         null,
         [
          10
         ],
         2,
         "Pepperoni",
         "Complex Ingredient",
         1,
         10,
         2,
         [
          1,
          1,
          4
         ],
         3,
         null
        ],
        [
         8,
         null,
         null,
         -1,
         "Tomato",
         "Produce",
         7,
         10,
         5,
         [
          1,
          1,
          2,
          1,
          1,
          1
         ],
         0,
         null
        ],
        [
         1,
         null,
         null,
         3,
         "Pepperoni Pizza",
         "Product",
         null,
         0,
         1,
         [
          1,
          1
         ],
         4,
         4
        ],
        [
         6,
         null,
         null,
         1,
         "Tomato, Chopped",
         "Processed Ingredient",
         3,
         10,
         3,
         [
          1,
          1,
          2,
          1
         ],
         2,
         1
        ]
       ],
       "datasetInfos": [],
       "dbfsResultPath": null,
       "isJsonSchema": true,
       "metadata": {},
       "overflow": false,
       "plotOptions": {
        "customPlotOptions": {},
        "displayType": "table",
        "pivotAggregation": null,
        "pivotColumns": null,
        "xColumns": null,
        "yColumns": null
       },
       "removedWidgets": [],
       "schema": [
        {
         "metadata": "{}",
         "name": "id",
         "type": "\"long\""
        },
        {
         "metadata": "{}",
         "name": "efAgg",
         "type": "\"long\""
        },
        {
         "metadata": "{}",
         "name": "__currentIterationMessage",
         "type": "{\"type\":\"struct\",\"fields\":[{\"name\":\"totalCarbon\",\"type\":\"long\",\"nullable\":true,\"metadata\":{}}]}"
        },
        {
         "metadata": "{}",
         "name": "__currentIterationOrder",
         "type": "\"integer\""
        },
        {
         "metadata": "{}",
         "name": "ingredientName",
         "type": "\"string\""
        },
        {
         "metadata": "{}",
         "name": "ingredientClass",
         "type": "\"string\""
        },
        {
         "metadata": "{}",
         "name": "parentIngredientID",
         "type": "\"long\""
        },
        {
         "metadata": "{}",
         "name": "carbon",
         "type": "\"long\""
        },
        {
         "metadata": "{}",
         "name": "level",
         "type": "\"integer\""
        },
        {
         "metadata": "{}",
         "name": "branchLabel",
         "type": "{\"type\":\"array\",\"elementType\":\"integer\",\"containsNull\":true}"
        },
        {
         "metadata": "{}",
         "name": "graphProcessOrder",
         "type": "\"integer\""
        },
        {
         "metadata": "{}",
         "name": "inDegree",
         "type": "\"integer\""
        }
       ],
       "type": "table"
      }
     },
     "output_type": "display_data"
    }
   ],
   "source": [
    "# The best way for message passing development is setting the iteration as 1 and display the internals. You will have a clear picture of what will happen in further nodes. Additionally, motif finding is also helpful to understand source -> edge -> destination data being propagated through the messages\n",
    "\n",
    "_msg = Pregel.msg().getField # Label to simplify the struct().getField - note that our message is a struct\n",
    "\n",
    "initialize_carbon_value = {\"totalCarbon\": col(\"carbon\")}\n",
    "\n",
    "child_msg_value = lambda v: (Pregel.src(v).withField(\"contributionFactor\", lit(1.0))) # Show case weighting example later\n",
    "\n",
    "aggredate_children_expr = {\"totalCarbon\": sum(_msg(\"totalCarbon\"))}\n",
    "\n",
    "vertex_update_after_agg_expr = coalesce(_msg(\"totalCarbon\") + lit(0)) + col(\"impactsAgg.totalCarbon\")\n",
    "\n",
    "g_results = pregel_aggregation_by_levels(graph_with_levels,                                                    \n",
    "                                         vertex_name= \"impactsAgg\",\n",
    "                                         vertex_initial_value = initialize_carbon_value,\n",
    "                                         child_msg_value = child_msg_value,\n",
    "                                         children_aggregation = aggredate_children_expr,\n",
    "                                         vertex_update_after_aggregation = vertex_update_after_agg_expr,\n",
    "                                         order_column=\"graphProcessOrder\",\n",
    "                                         max_iters=1,\n",
    "                                         debug=True)"
   ]
  },
  {
   "cell_type": "code",
   "execution_count": 0,
   "metadata": {
    "application/vnd.databricks.v1+cell": {
     "cellMetadata": {
      "byteLimit": 2048000,
      "rowLimit": 10000
     },
     "inputWidgets": {},
     "nuid": "496f6263-1b24-4453-a5e2-e9491e1f6d54",
     "showTitle": true,
     "title": "Querying graph with Motif Finding"
    }
   },
   "outputs": [
    {
     "output_type": "display_data",
     "data": {
      "text/html": [
       "<style scoped>\n",
       "  .table-result-container {\n",
       "    max-height: 300px;\n",
       "    overflow: auto;\n",
       "  }\n",
       "  table, th, td {\n",
       "    border: 1px solid black;\n",
       "    border-collapse: collapse;\n",
       "  }\n",
       "  th, td {\n",
       "    padding: 5px;\n",
       "  }\n",
       "  th {\n",
       "    text-align: left;\n",
       "  }\n",
       "</style><div class='table-result-container'><table class='table-result'><thead style='background-color: white'><tr><th>id</th><th>efAgg</th><th>__currentIterationMessage</th><th>__currentIterationOrder</th><th>ingredientName</th><th>ingredientClass</th><th>parentIngredientID</th><th>carbon</th><th>level</th><th>branchLabel</th><th>graphProcessOrder</th><th>inDegree</th></tr></thead><tbody><tr><td>2</td><td>List(10)</td><td>null</td><td>-7</td><td>Dough</td><td>Complex Ingredient</td><td>1</td><td>10</td><td>2</td><td>List(1, 1, 1)</td><td>3</td><td>null</td></tr><tr><td>3</td><td>List(10)</td><td>null</td><td>-7</td><td>Tomato Sauce</td><td>Complex Ingredient</td><td>1</td><td>10</td><td>2</td><td>List(1, 1, 2)</td><td>3</td><td>1</td></tr><tr><td>7</td><td>List(10)</td><td>null</td><td>-9</td><td>Tomato, Washed</td><td>Processed Ingredient</td><td>6</td><td>10</td><td>4</td><td>List(1, 1, 2, 1, 1)</td><td>1</td><td>1</td></tr><tr><td>4</td><td>List(10)</td><td>null</td><td>-7</td><td>Cheese</td><td>Complex Ingredient</td><td>1</td><td>10</td><td>2</td><td>List(1, 1, 3)</td><td>3</td><td>null</td></tr><tr><td>5</td><td>List(10)</td><td>null</td><td>-7</td><td>Pepperoni</td><td>Complex Ingredient</td><td>1</td><td>10</td><td>2</td><td>List(1, 1, 4)</td><td>3</td><td>null</td></tr><tr><td>8</td><td>List(10)</td><td>null</td><td>-10</td><td>Tomato</td><td>Produce</td><td>7</td><td>10</td><td>5</td><td>List(1, 1, 2, 1, 1, 1)</td><td>0</td><td>null</td></tr><tr><td>1</td><td>List(40)</td><td>null</td><td>-6</td><td>Pepperoni Pizza</td><td>Product</td><td>null</td><td>0</td><td>1</td><td>List(1, 1)</td><td>4</td><td>4</td></tr><tr><td>6</td><td>List(10)</td><td>null</td><td>-8</td><td>Tomato, Chopped</td><td>Processed Ingredient</td><td>3</td><td>10</td><td>3</td><td>List(1, 1, 2, 1)</td><td>2</td><td>1</td></tr></tbody></table></div>"
      ]
     },
     "metadata": {
      "application/vnd.databricks.v1+output": {
       "addedWidgets": {},
       "aggData": [],
       "aggError": "",
       "aggOverflow": false,
       "aggSchema": [],
       "aggSeriesLimitReached": false,
       "aggType": "",
       "arguments": {},
       "columnCustomDisplayInfos": {},
       "data": [
        [
         2,
         [
          10
         ],
         null,
         -7,
         "Dough",
         "Complex Ingredient",
         1,
         10,
         2,
         [
          1,
          1,
          1
         ],
         3,
         null
        ],
        [
         3,
         [
          10
         ],
         null,
         -7,
         "Tomato Sauce",
         "Complex Ingredient",
         1,
         10,
         2,
         [
          1,
          1,
          2
         ],
         3,
         1
        ],
        [
         7,
         [
          10
         ],
         null,
         -9,
         "Tomato, Washed",
         "Processed Ingredient",
         6,
         10,
         4,
         [
          1,
          1,
          2,
          1,
          1
         ],
         1,
         1
        ],
        [
         4,
         [
          10
         ],
         null,
         -7,
         "Cheese",
         "Complex Ingredient",
         1,
         10,
         2,
         [
          1,
          1,
          3
         ],
         3,
         null
        ],
        [
         5,
         [
          10
         ],
         null,
         -7,
         "Pepperoni",
         "Complex Ingredient",
         1,
         10,
         2,
         [
          1,
          1,
          4
         ],
         3,
         null
        ],
        [
         8,
         [
          10
         ],
         null,
         -10,
         "Tomato",
         "Produce",
         7,
         10,
         5,
         [
          1,
          1,
          2,
          1,
          1,
          1
         ],
         0,
         null
        ],
        [
         1,
         [
          40
         ],
         null,
         -6,
         "Pepperoni Pizza",
         "Product",
         null,
         0,
         1,
         [
          1,
          1
         ],
         4,
         4
        ],
        [
         6,
         [
          10
         ],
         null,
         -8,
         "Tomato, Chopped",
         "Processed Ingredient",
         3,
         10,
         3,
         [
          1,
          1,
          2,
          1
         ],
         2,
         1
        ]
       ],
       "datasetInfos": [],
       "dbfsResultPath": null,
       "isJsonSchema": true,
       "metadata": {},
       "overflow": false,
       "plotOptions": {
        "customPlotOptions": {},
        "displayType": "table",
        "pivotAggregation": null,
        "pivotColumns": null,
        "xColumns": null,
        "yColumns": null
       },
       "removedWidgets": [],
       "schema": [
        {
         "metadata": "{}",
         "name": "id",
         "type": "\"long\""
        },
        {
         "metadata": "{}",
         "name": "efAgg",
         "type": "{\"type\":\"struct\",\"fields\":[{\"name\":\"totalCarbon\",\"type\":\"long\",\"nullable\":true,\"metadata\":{}}]}"
        },
        {
         "metadata": "{}",
         "name": "__currentIterationMessage",
         "type": "{\"type\":\"struct\",\"fields\":[{\"name\":\"totalCarbon\",\"type\":\"long\",\"nullable\":true,\"metadata\":{}}]}"
        },
        {
         "metadata": "{}",
         "name": "__currentIterationOrder",
         "type": "\"integer\""
        },
        {
         "metadata": "{}",
         "name": "ingredientName",
         "type": "\"string\""
        },
        {
         "metadata": "{}",
         "name": "ingredientClass",
         "type": "\"string\""
        },
        {
         "metadata": "{}",
         "name": "parentIngredientID",
         "type": "\"long\""
        },
        {
         "metadata": "{}",
         "name": "carbon",
         "type": "\"long\""
        },
        {
         "metadata": "{}",
         "name": "level",
         "type": "\"integer\""
        },
        {
         "metadata": "{}",
         "name": "branchLabel",
         "type": "{\"type\":\"array\",\"elementType\":\"integer\",\"containsNull\":true}"
        },
        {
         "metadata": "{}",
         "name": "graphProcessOrder",
         "type": "\"integer\""
        },
        {
         "metadata": "{}",
         "name": "inDegree",
         "type": "\"integer\""
        }
       ],
       "type": "table"
      }
     },
     "output_type": "display_data"
    }
   ],
   "source": [
    "g_results.find(\"(c)-[e]->(p)\") # Expression for child -> edge -> parent. GraphFrame motif finding uses a simple Domain-Specific Language (DSL) for expressing structural queries.\n",
    "\n",
    "# See more: https://graphframes.github.io/graphframes/docs/_site/user-guide.html#motif-finding"
   ]
  }
 ],
 "metadata": {
  "application/vnd.databricks.v1+notebook": {
   "dashboards": [],
   "environmentMetadata": null,
   "language": "python",
   "notebookMetadata": {
    "pythonIndentUnit": 4
   },
   "notebookName": "GraphFrames - Capabilities Demo",
   "widgets": {}
  }
 },
 "nbformat": 4,
 "nbformat_minor": 0
}
